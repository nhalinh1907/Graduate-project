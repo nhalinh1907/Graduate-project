{
 "cells": [
  {
   "cell_type": "code",
   "execution_count": 1,
   "id": "d3bccd10",
   "metadata": {},
   "outputs": [
    {
     "name": "stderr",
     "output_type": "stream",
     "text": [
      "c:\\Users\\LENOVO\\AppData\\Local\\Programs\\Python\\Python312\\Lib\\site-packages\\torch\\utils\\_pytree.py:185: FutureWarning: optree is installed but the version is too old to support PyTorch Dynamo in C++ pytree. C++ pytree support is disabled. Please consider upgrading optree using `python3 -m pip install --upgrade 'optree>=0.13.0'`.\n",
      "  warnings.warn(\n"
     ]
    }
   ],
   "source": [
    "import pandas as pd\n",
    "import numpy as np\n",
    "\n",
    "from skopt import gp_minimize, gbrt_minimize\n",
    "from skopt.space import Integer\n",
    "from skopt.utils import use_named_args\n",
    "from neuralforecast import NeuralForecast\n",
    "from neuralforecast.models import RNN\n",
    "from neuralforecast.losses.pytorch import MQLoss, MAE, MSE\n",
    "from sklearn.metrics import mean_absolute_error as mae\n",
    "from sklearn.metrics import mean_squared_error as mse\n",
    "from sklearn.metrics import mean_absolute_percentage_error as mape\n",
    "import warnings\n",
    "warnings.filterwarnings('ignore')"
   ]
  },
  {
   "cell_type": "code",
   "execution_count": 2,
   "id": "ddfdd744",
   "metadata": {},
   "outputs": [
    {
     "data": {
      "text/html": [
       "<div>\n",
       "<style scoped>\n",
       "    .dataframe tbody tr th:only-of-type {\n",
       "        vertical-align: middle;\n",
       "    }\n",
       "\n",
       "    .dataframe tbody tr th {\n",
       "        vertical-align: top;\n",
       "    }\n",
       "\n",
       "    .dataframe thead th {\n",
       "        text-align: right;\n",
       "    }\n",
       "</style>\n",
       "<table border=\"1\" class=\"dataframe\">\n",
       "  <thead>\n",
       "    <tr style=\"text-align: right;\">\n",
       "      <th></th>\n",
       "      <th>date</th>\n",
       "      <th>OT</th>\n",
       "    </tr>\n",
       "  </thead>\n",
       "  <tbody>\n",
       "    <tr>\n",
       "      <th>0</th>\n",
       "      <td>2015-01-05</td>\n",
       "      <td>544.45</td>\n",
       "    </tr>\n",
       "    <tr>\n",
       "      <th>1</th>\n",
       "      <td>2015-01-06</td>\n",
       "      <td>549.66</td>\n",
       "    </tr>\n",
       "    <tr>\n",
       "      <th>2</th>\n",
       "      <td>2015-01-07</td>\n",
       "      <td>552.05</td>\n",
       "    </tr>\n",
       "    <tr>\n",
       "      <th>3</th>\n",
       "      <td>2015-01-08</td>\n",
       "      <td>553.47</td>\n",
       "    </tr>\n",
       "    <tr>\n",
       "      <th>4</th>\n",
       "      <td>2015-01-09</td>\n",
       "      <td>569.73</td>\n",
       "    </tr>\n",
       "    <tr>\n",
       "      <th>...</th>\n",
       "      <td>...</td>\n",
       "      <td>...</td>\n",
       "    </tr>\n",
       "    <tr>\n",
       "      <th>2551</th>\n",
       "      <td>2025-03-27</td>\n",
       "      <td>1323.81</td>\n",
       "    </tr>\n",
       "    <tr>\n",
       "      <th>2552</th>\n",
       "      <td>2025-03-28</td>\n",
       "      <td>1317.46</td>\n",
       "    </tr>\n",
       "    <tr>\n",
       "      <th>2553</th>\n",
       "      <td>2025-03-31</td>\n",
       "      <td>1306.86</td>\n",
       "    </tr>\n",
       "    <tr>\n",
       "      <th>2554</th>\n",
       "      <td>2025-04-01</td>\n",
       "      <td>1317.33</td>\n",
       "    </tr>\n",
       "    <tr>\n",
       "      <th>2555</th>\n",
       "      <td>2025-04-02</td>\n",
       "      <td>1317.83</td>\n",
       "    </tr>\n",
       "  </tbody>\n",
       "</table>\n",
       "<p>2556 rows × 2 columns</p>\n",
       "</div>"
      ],
      "text/plain": [
       "           date       OT\n",
       "0    2015-01-05   544.45\n",
       "1    2015-01-06   549.66\n",
       "2    2015-01-07   552.05\n",
       "3    2015-01-08   553.47\n",
       "4    2015-01-09   569.73\n",
       "...         ...      ...\n",
       "2551 2025-03-27  1323.81\n",
       "2552 2025-03-28  1317.46\n",
       "2553 2025-03-31  1306.86\n",
       "2554 2025-04-01  1317.33\n",
       "2555 2025-04-02  1317.83\n",
       "\n",
       "[2556 rows x 2 columns]"
      ]
     },
     "execution_count": 2,
     "metadata": {},
     "output_type": "execute_result"
    }
   ],
   "source": [
    "df=pd.read_csv('vnindex_with_usd_dji_gold_oil.csv')\n",
    "df=df[['date','OT']]\n",
    "\n",
    "df['date'] = pd.to_datetime(df['date'])\n",
    "df"
   ]
  },
  {
   "cell_type": "code",
   "execution_count": 3,
   "id": "c5402f72",
   "metadata": {},
   "outputs": [
    {
     "data": {
      "text/html": [
       "<div>\n",
       "<style scoped>\n",
       "    .dataframe tbody tr th:only-of-type {\n",
       "        vertical-align: middle;\n",
       "    }\n",
       "\n",
       "    .dataframe tbody tr th {\n",
       "        vertical-align: top;\n",
       "    }\n",
       "\n",
       "    .dataframe thead th {\n",
       "        text-align: right;\n",
       "    }\n",
       "</style>\n",
       "<table border=\"1\" class=\"dataframe\">\n",
       "  <thead>\n",
       "    <tr style=\"text-align: right;\">\n",
       "      <th></th>\n",
       "      <th>unique_id</th>\n",
       "      <th>ds</th>\n",
       "      <th>y</th>\n",
       "    </tr>\n",
       "  </thead>\n",
       "  <tbody>\n",
       "    <tr>\n",
       "      <th>0</th>\n",
       "      <td>VNINDEX</td>\n",
       "      <td>2015-01-05</td>\n",
       "      <td>544.45</td>\n",
       "    </tr>\n",
       "    <tr>\n",
       "      <th>1</th>\n",
       "      <td>VNINDEX</td>\n",
       "      <td>2015-01-06</td>\n",
       "      <td>549.66</td>\n",
       "    </tr>\n",
       "    <tr>\n",
       "      <th>2</th>\n",
       "      <td>VNINDEX</td>\n",
       "      <td>2015-01-07</td>\n",
       "      <td>552.05</td>\n",
       "    </tr>\n",
       "    <tr>\n",
       "      <th>3</th>\n",
       "      <td>VNINDEX</td>\n",
       "      <td>2015-01-08</td>\n",
       "      <td>553.47</td>\n",
       "    </tr>\n",
       "    <tr>\n",
       "      <th>4</th>\n",
       "      <td>VNINDEX</td>\n",
       "      <td>2015-01-09</td>\n",
       "      <td>569.73</td>\n",
       "    </tr>\n",
       "    <tr>\n",
       "      <th>...</th>\n",
       "      <td>...</td>\n",
       "      <td>...</td>\n",
       "      <td>...</td>\n",
       "    </tr>\n",
       "    <tr>\n",
       "      <th>2551</th>\n",
       "      <td>VNINDEX</td>\n",
       "      <td>2025-03-27</td>\n",
       "      <td>1323.81</td>\n",
       "    </tr>\n",
       "    <tr>\n",
       "      <th>2552</th>\n",
       "      <td>VNINDEX</td>\n",
       "      <td>2025-03-28</td>\n",
       "      <td>1317.46</td>\n",
       "    </tr>\n",
       "    <tr>\n",
       "      <th>2553</th>\n",
       "      <td>VNINDEX</td>\n",
       "      <td>2025-03-31</td>\n",
       "      <td>1306.86</td>\n",
       "    </tr>\n",
       "    <tr>\n",
       "      <th>2554</th>\n",
       "      <td>VNINDEX</td>\n",
       "      <td>2025-04-01</td>\n",
       "      <td>1317.33</td>\n",
       "    </tr>\n",
       "    <tr>\n",
       "      <th>2555</th>\n",
       "      <td>VNINDEX</td>\n",
       "      <td>2025-04-02</td>\n",
       "      <td>1317.83</td>\n",
       "    </tr>\n",
       "  </tbody>\n",
       "</table>\n",
       "<p>2556 rows × 3 columns</p>\n",
       "</div>"
      ],
      "text/plain": [
       "     unique_id         ds        y\n",
       "0      VNINDEX 2015-01-05   544.45\n",
       "1      VNINDEX 2015-01-06   549.66\n",
       "2      VNINDEX 2015-01-07   552.05\n",
       "3      VNINDEX 2015-01-08   553.47\n",
       "4      VNINDEX 2015-01-09   569.73\n",
       "...        ...        ...      ...\n",
       "2551   VNINDEX 2025-03-27  1323.81\n",
       "2552   VNINDEX 2025-03-28  1317.46\n",
       "2553   VNINDEX 2025-03-31  1306.86\n",
       "2554   VNINDEX 2025-04-01  1317.33\n",
       "2555   VNINDEX 2025-04-02  1317.83\n",
       "\n",
       "[2556 rows x 3 columns]"
      ]
     },
     "execution_count": 3,
     "metadata": {},
     "output_type": "execute_result"
    }
   ],
   "source": [
    "df1 = df\n",
    "df1 = df1.reset_index().rename(columns={'date': 'ds'})\n",
    "df1['unique_id'] = 'VNINDEX'\n",
    "df1.rename(columns={'OT': 'y'}, inplace=True)\n",
    "df1['ds'] = pd.to_datetime(df1['ds'])\n",
    "# Kết quả\n",
    "df1 = df1[['unique_id', 'ds', 'y']]\n",
    "df1"
   ]
  },
  {
   "cell_type": "code",
   "execution_count": 4,
   "id": "532a9b0f",
   "metadata": {},
   "outputs": [
    {
     "name": "stdout",
     "output_type": "stream",
     "text": [
      "VNINDEX:\n",
      "Train size: 1789\n",
      "Validation size: 511\n",
      "Test size: 256\n"
     ]
    }
   ],
   "source": [
    "# Xác định kích thước các tập\n",
    "train_size = int(len(df1) * 0.7)  # 70% cho train\n",
    "val_len = int(len(df1) * 0.2)   # 20% cho validation\n",
    "test_len = len(df1) - train_size - val_len  # Phần còn lại cho test\n",
    "\n",
    "# Chia dữ liệu theo thời gian\n",
    "train = df1.iloc[:train_size].reset_index(drop=True)\n",
    "val = df1.iloc[train_size:train_size + val_len].reset_index(drop=True)\n",
    "test = df1.iloc[train_size + val_len:].reset_index(drop=True)\n",
    "\n",
    "# Kiểm tra kích thước\n",
    "print(\"VNINDEX:\")\n",
    "print(f\"Train size: {len(train)}\")\n",
    "print(f\"Validation size: {len(val)}\")\n",
    "print(f\"Test size: {len(test)}\")\n"
   ]
  },
  {
   "cell_type": "markdown",
   "id": "4fcf04bc",
   "metadata": {},
   "source": [
    "# Bayes"
   ]
  },
  {
   "cell_type": "code",
   "execution_count": 9,
   "id": "c9c0ae0f",
   "metadata": {},
   "outputs": [],
   "source": [
    "### Bayes\n",
    "import pandas as pd\n",
    "import numpy as np\n",
    "from skopt import gp_minimize, gbrt_minimize\n",
    "from skopt.space import Integer,Categorical,Real\n",
    "from skopt.utils import use_named_args\n",
    "from neuralforecast import NeuralForecast\n",
    "from neuralforecast.models import LSTM\n",
    "from neuralforecast.losses.pytorch import DistributionLoss, MAE, MSE\n",
    "from sklearn.metrics import mean_absolute_error as mae\n",
    "from sklearn.metrics import mean_squared_error as mse\n",
    "from sklearn.metrics import mean_absolute_percentage_error as mape\n"
   ]
  },
  {
   "cell_type": "code",
   "execution_count": 13,
   "id": "46cf4f49",
   "metadata": {},
   "outputs": [],
   "source": [
    "\n",
    "\n",
    "# Giả định df, val_len, test_len đã được định nghĩa trước\n",
    "horizon = 20  \n",
    "\n",
    "\n",
    "# Định nghĩa không gian tìm kiếm cho các siêu tham số LSTM\n",
    "dimensions = [\n",
    "    Integer(low=40, high=80, name='input_size'),  # Bắt đầu từ mẫu: input_size=8\n",
    "    Integer(low=100, high=500, name='max_steps'),  # Bắt đầu từ mẫu: max_steps=200\n",
    "    Integer(low=1, high=3, name='encoder_n_layers'),  # Bắt đầu từ mẫu: encoder_n_layers=2\n",
    "    Categorical(categories=[32, 64], name='batch_size'),  # Bắt đầu từ mẫu: encoder_hidden_size=128\n",
    "    Integer(low=1, high=3, name='decoder_layers'),  # Bắt đầu từ mẫu: decoder_layers=2\n",
    "    Real(low=1e-5, high=1e-3, prior='log-uniform', name='learning_rate'),\n",
    "]\n",
    "\n",
    "# Biến toàn cục để lưu kết quả\n",
    "results_history = []\n",
    "best_score = float('inf')\n",
    "best_params = None\n",
    "best_method = None\n",
    "best_result = None\n",
    "\n",
    "# Hàm callback để lưu kết quả tối ưu hóa\n",
    "def callback_func(result):\n",
    "    global results_history, best_score, best_params, best_method, best_result\n",
    "    \n",
    "    current_score = result.func_vals[-1]\n",
    "    current_params = dict(zip([dim.name for dim in dimensions], result.x_iters[-1]))\n",
    "    \n",
    "    results_history.append({\n",
    "        'iteration': len(result.func_vals),\n",
    "        'score': current_score,\n",
    "        **current_params\n",
    "    })\n",
    "    \n",
    "    if current_score < best_score:\n",
    "        best_score = current_score\n",
    "        best_params = current_params.copy()\n",
    "        best_result = result\n",
    "        print(f\"Điểm tốt nhất mới: {current_score:.4f} tại vòng lặp {len(result.func_vals)}\")\n",
    "\n",
    "@use_named_args(dimensions)\n",
    "def objective(**params):\n",
    "    \"\"\"\n",
    "    Hàm mục tiêu cho Tối ưu hóa Bayes\n",
    "    \"\"\"\n",
    "    try:\n",
    "    \n",
    "        \n",
    "        # Tạo mô hình LSTM với các siêu tham số\n",
    "        model = LSTM(\n",
    "            h=horizon,\n",
    "            input_size=params['input_size'],\n",
    "            loss=DistributionLoss(distribution=\"Normal\", level=[80, 90]),\n",
    "            scaler_type='robust',\n",
    "            encoder_n_layers=params['encoder_n_layers'],\n",
    "            decoder_layers=params['decoder_layers'],\n",
    "            batch_size=params['batch_size'],\n",
    "            learning_rate=params['learning_rate'],\n",
    "            max_steps=params['max_steps'],\n",
    "            recurrent=True,\n",
    "            h_train=1,\n",
    "            valid_loss=DistributionLoss(distribution=\"Normal\", level=[80, 90])\n",
    "        )\n",
    "        \n",
    "        # Khởi tạo NeuralForecast\n",
    "        fcst = NeuralForecast(models=[model], freq='B')\n",
    "        \n",
    "        # Thực hiện cross-validation\n",
    "        print(\"Hình dạng dữ liệu đầu vào:\", df1.shape)\n",
    "        forecasts = fcst.cross_validation(\n",
    "            df=df1, \n",
    "            val_size=val_len, \n",
    "            n_windows=None, \n",
    "            test_size=test_len - ((test_len - horizon) % horizon), \n",
    "            step_size=horizon\n",
    "        )\n",
    "        \n",
    "        # Tính toán MAE\n",
    "        Y_true = forecasts['y'].values\n",
    "        Y_hat = forecasts['LSTM'].values\n",
    "        print(\"Hình dạng dự báo:\", forecasts.shape)\n",
    "        MAE_score = mae(Y_true, Y_hat)\n",
    "        \n",
    "        print(f\"MAE: {MAE_score:.4f} | Tham số: {params}\")\n",
    "        return MAE_score\n",
    "        \n",
    "    except Exception as e:\n",
    "        print(f\"Lỗi trong hàm mục tiêu: {e}\")\n",
    "        return 1000.0  # Phạt cho các lần chạy thất bại\n",
    "\n"
   ]
  },
  {
   "cell_type": "code",
   "execution_count": 14,
   "id": "a1710f23",
   "metadata": {},
   "outputs": [
    {
     "name": "stderr",
     "output_type": "stream",
     "text": [
      "Seed set to 1\n"
     ]
    },
    {
     "name": "stdout",
     "output_type": "stream",
     "text": [
      "============================================================\n",
      "PHƯƠNG PHÁP 1: TỐI ƯU HÓA GAUSSIAN PROCESS\n",
      "============================================================\n"
     ]
    },
    {
     "name": "stderr",
     "output_type": "stream",
     "text": [
      "GPU available: False, used: False\n",
      "TPU available: False, using: 0 TPU cores\n",
      "HPU available: False, using: 0 HPUs\n"
     ]
    },
    {
     "name": "stdout",
     "output_type": "stream",
     "text": [
      "Hình dạng dữ liệu đầu vào: (2556, 3)\n"
     ]
    },
    {
     "name": "stderr",
     "output_type": "stream",
     "text": [
      "\n",
      "  | Name         | Type             | Params | Mode \n",
      "----------------------------------------------------------\n",
      "0 | loss         | DistributionLoss | 5      | train\n",
      "1 | padder_train | ConstantPad1d    | 0      | train\n",
      "2 | scaler       | TemporalNorm     | 0      | train\n",
      "3 | hist_encoder | LSTM             | 9.5 K  | train\n",
      "----------------------------------------------------------\n",
      "9.5 K     Trainable params\n",
      "5         Non-trainable params\n",
      "9.5 K     Total params\n",
      "0.038     Total estimated model params size (MB)\n",
      "4         Modules in train mode\n",
      "0         Modules in eval mode\n"
     ]
    },
    {
     "data": {
      "application/vnd.jupyter.widget-view+json": {
       "model_id": "21c1c6a14c5847dda88fd78f9f7f1cf8",
       "version_major": 2,
       "version_minor": 0
      },
      "text/plain": [
       "Sanity Checking: |          | 0/? [00:00<?, ?it/s]"
      ]
     },
     "metadata": {},
     "output_type": "display_data"
    },
    {
     "data": {
      "application/vnd.jupyter.widget-view+json": {
       "model_id": "b6679ceaae1e41cf95c8102977367d4b",
       "version_major": 2,
       "version_minor": 0
      },
      "text/plain": [
       "Training: |          | 0/? [00:00<?, ?it/s]"
      ]
     },
     "metadata": {},
     "output_type": "display_data"
    },
    {
     "data": {
      "application/vnd.jupyter.widget-view+json": {
       "model_id": "7fb3761a095944d086ec0081575d36fc",
       "version_major": 2,
       "version_minor": 0
      },
      "text/plain": [
       "Validation: |          | 0/? [00:00<?, ?it/s]"
      ]
     },
     "metadata": {},
     "output_type": "display_data"
    },
    {
     "name": "stderr",
     "output_type": "stream",
     "text": [
      "`Trainer.fit` stopped: `max_steps=173` reached.\n",
      "GPU available: False, used: False\n",
      "TPU available: False, using: 0 TPU cores\n",
      "HPU available: False, using: 0 HPUs\n"
     ]
    },
    {
     "data": {
      "application/vnd.jupyter.widget-view+json": {
       "model_id": "cc47c1b24c4343339fc9c16a814d7dd2",
       "version_major": 2,
       "version_minor": 0
      },
      "text/plain": [
       "Predicting: |          | 0/? [00:00<?, ?it/s]"
      ]
     },
     "metadata": {},
     "output_type": "display_data"
    },
    {
     "name": "stderr",
     "output_type": "stream",
     "text": [
      "Seed set to 1\n",
      "GPU available: False, used: False\n",
      "TPU available: False, using: 0 TPU cores\n",
      "HPU available: False, using: 0 HPUs\n"
     ]
    },
    {
     "name": "stdout",
     "output_type": "stream",
     "text": [
      "Hình dạng dự báo: (240, 10)\n",
      "MAE: 24.5392 | Tham số: {'input_size': 72, 'max_steps': 173, 'encoder_n_layers': 3, 'batch_size': 64, 'decoder_layers': 2, 'learning_rate': 1.584710121043908e-05}\n",
      "Điểm tốt nhất mới: 24.5392 tại vòng lặp 1\n",
      "Hình dạng dữ liệu đầu vào: (2556, 3)\n"
     ]
    },
    {
     "name": "stderr",
     "output_type": "stream",
     "text": [
      "\n",
      "  | Name         | Type             | Params | Mode \n",
      "----------------------------------------------------------\n",
      "0 | loss         | DistributionLoss | 5      | train\n",
      "1 | padder_train | ConstantPad1d    | 0      | train\n",
      "2 | scaler       | TemporalNorm     | 0      | train\n",
      "3 | hist_encoder | LSTM             | 2.8 K  | train\n",
      "----------------------------------------------------------\n",
      "2.8 K     Trainable params\n",
      "5         Non-trainable params\n",
      "2.8 K     Total params\n",
      "0.011     Total estimated model params size (MB)\n",
      "4         Modules in train mode\n",
      "0         Modules in eval mode\n"
     ]
    },
    {
     "data": {
      "application/vnd.jupyter.widget-view+json": {
       "model_id": "01ee1a8ac9df4aceb4df577c7cf8db70",
       "version_major": 2,
       "version_minor": 0
      },
      "text/plain": [
       "Sanity Checking: |          | 0/? [00:00<?, ?it/s]"
      ]
     },
     "metadata": {},
     "output_type": "display_data"
    },
    {
     "data": {
      "application/vnd.jupyter.widget-view+json": {
       "model_id": "9ee80f60c5c04aadbc2db4ac73c0c70b",
       "version_major": 2,
       "version_minor": 0
      },
      "text/plain": [
       "Training: |          | 0/? [00:00<?, ?it/s]"
      ]
     },
     "metadata": {},
     "output_type": "display_data"
    },
    {
     "data": {
      "application/vnd.jupyter.widget-view+json": {
       "model_id": "b6552037af3c4c6c8a181ccc83e8ae24",
       "version_major": 2,
       "version_minor": 0
      },
      "text/plain": [
       "Validation: |          | 0/? [00:00<?, ?it/s]"
      ]
     },
     "metadata": {},
     "output_type": "display_data"
    },
    {
     "data": {
      "application/vnd.jupyter.widget-view+json": {
       "model_id": "e1eb37610ddf4a9f9a20213e2e4bdfe0",
       "version_major": 2,
       "version_minor": 0
      },
      "text/plain": [
       "Validation: |          | 0/? [00:00<?, ?it/s]"
      ]
     },
     "metadata": {},
     "output_type": "display_data"
    },
    {
     "name": "stderr",
     "output_type": "stream",
     "text": [
      "`Trainer.fit` stopped: `max_steps=233` reached.\n",
      "GPU available: False, used: False\n",
      "TPU available: False, using: 0 TPU cores\n",
      "HPU available: False, using: 0 HPUs\n"
     ]
    },
    {
     "data": {
      "application/vnd.jupyter.widget-view+json": {
       "model_id": "b6f931a6f5174d50b315cc59f6496db9",
       "version_major": 2,
       "version_minor": 0
      },
      "text/plain": [
       "Predicting: |          | 0/? [00:00<?, ?it/s]"
      ]
     },
     "metadata": {},
     "output_type": "display_data"
    },
    {
     "name": "stderr",
     "output_type": "stream",
     "text": [
      "Seed set to 1\n",
      "GPU available: False, used: False\n",
      "TPU available: False, using: 0 TPU cores\n",
      "HPU available: False, using: 0 HPUs\n"
     ]
    },
    {
     "name": "stdout",
     "output_type": "stream",
     "text": [
      "Hình dạng dự báo: (240, 10)\n",
      "MAE: 24.3204 | Tham số: {'input_size': 58, 'max_steps': 233, 'encoder_n_layers': 1, 'batch_size': 64, 'decoder_layers': 1, 'learning_rate': 0.0002779697551526683}\n",
      "Điểm tốt nhất mới: 24.3204 tại vòng lặp 2\n",
      "Hình dạng dữ liệu đầu vào: (2556, 3)\n"
     ]
    },
    {
     "name": "stderr",
     "output_type": "stream",
     "text": [
      "\n",
      "  | Name         | Type             | Params | Mode \n",
      "----------------------------------------------------------\n",
      "0 | loss         | DistributionLoss | 5      | train\n",
      "1 | padder_train | ConstantPad1d    | 0      | train\n",
      "2 | scaler       | TemporalNorm     | 0      | train\n",
      "3 | hist_encoder | LSTM             | 9.5 K  | train\n",
      "----------------------------------------------------------\n",
      "9.5 K     Trainable params\n",
      "5         Non-trainable params\n",
      "9.5 K     Total params\n",
      "0.038     Total estimated model params size (MB)\n",
      "4         Modules in train mode\n",
      "0         Modules in eval mode\n"
     ]
    },
    {
     "data": {
      "application/vnd.jupyter.widget-view+json": {
       "model_id": "6a38cb8570214ef2ba1f5e97c3ee3be3",
       "version_major": 2,
       "version_minor": 0
      },
      "text/plain": [
       "Sanity Checking: |          | 0/? [00:00<?, ?it/s]"
      ]
     },
     "metadata": {},
     "output_type": "display_data"
    },
    {
     "data": {
      "application/vnd.jupyter.widget-view+json": {
       "model_id": "5d40f26866ce4fcbbdf8212cfe1183f6",
       "version_major": 2,
       "version_minor": 0
      },
      "text/plain": [
       "Training: |          | 0/? [00:00<?, ?it/s]"
      ]
     },
     "metadata": {},
     "output_type": "display_data"
    },
    {
     "data": {
      "application/vnd.jupyter.widget-view+json": {
       "model_id": "052296a93100481f92a478c48521ec46",
       "version_major": 2,
       "version_minor": 0
      },
      "text/plain": [
       "Validation: |          | 0/? [00:00<?, ?it/s]"
      ]
     },
     "metadata": {},
     "output_type": "display_data"
    },
    {
     "name": "stderr",
     "output_type": "stream",
     "text": [
      "`Trainer.fit` stopped: `max_steps=100` reached.\n",
      "GPU available: False, used: False\n",
      "TPU available: False, using: 0 TPU cores\n",
      "HPU available: False, using: 0 HPUs\n"
     ]
    },
    {
     "data": {
      "application/vnd.jupyter.widget-view+json": {
       "model_id": "9ad391989b244bc69e6ba3cfce92c7ca",
       "version_major": 2,
       "version_minor": 0
      },
      "text/plain": [
       "Predicting: |          | 0/? [00:00<?, ?it/s]"
      ]
     },
     "metadata": {},
     "output_type": "display_data"
    },
    {
     "name": "stderr",
     "output_type": "stream",
     "text": [
      "Seed set to 1\n",
      "GPU available: False, used: False\n",
      "TPU available: False, using: 0 TPU cores\n",
      "HPU available: False, using: 0 HPUs\n"
     ]
    },
    {
     "name": "stdout",
     "output_type": "stream",
     "text": [
      "Hình dạng dự báo: (240, 10)\n",
      "MAE: 25.1183 | Tham số: {'input_size': 78, 'max_steps': 100, 'encoder_n_layers': 3, 'batch_size': 64, 'decoder_layers': 2, 'learning_rate': 1.0330768043240409e-05}\n",
      "Hình dạng dữ liệu đầu vào: (2556, 3)\n"
     ]
    },
    {
     "name": "stderr",
     "output_type": "stream",
     "text": [
      "\n",
      "  | Name         | Type             | Params | Mode \n",
      "----------------------------------------------------------\n",
      "0 | loss         | DistributionLoss | 5      | train\n",
      "1 | padder_train | ConstantPad1d    | 0      | train\n",
      "2 | scaler       | TemporalNorm     | 0      | train\n",
      "3 | hist_encoder | LSTM             | 6.1 K  | train\n",
      "----------------------------------------------------------\n",
      "6.1 K     Trainable params\n",
      "5         Non-trainable params\n",
      "6.1 K     Total params\n",
      "0.025     Total estimated model params size (MB)\n",
      "4         Modules in train mode\n",
      "0         Modules in eval mode\n"
     ]
    },
    {
     "data": {
      "application/vnd.jupyter.widget-view+json": {
       "model_id": "6c64e79370b849fbad1e86441870caaf",
       "version_major": 2,
       "version_minor": 0
      },
      "text/plain": [
       "Sanity Checking: |          | 0/? [00:00<?, ?it/s]"
      ]
     },
     "metadata": {},
     "output_type": "display_data"
    },
    {
     "data": {
      "application/vnd.jupyter.widget-view+json": {
       "model_id": "d42d3b47c652467c839c5a904c06530e",
       "version_major": 2,
       "version_minor": 0
      },
      "text/plain": [
       "Training: |          | 0/? [00:00<?, ?it/s]"
      ]
     },
     "metadata": {},
     "output_type": "display_data"
    },
    {
     "data": {
      "application/vnd.jupyter.widget-view+json": {
       "model_id": "530b2726e6dd42a9811caa6c51837932",
       "version_major": 2,
       "version_minor": 0
      },
      "text/plain": [
       "Validation: |          | 0/? [00:00<?, ?it/s]"
      ]
     },
     "metadata": {},
     "output_type": "display_data"
    },
    {
     "data": {
      "application/vnd.jupyter.widget-view+json": {
       "model_id": "849a44335b8f40ce8ff4d2e135199ea0",
       "version_major": 2,
       "version_minor": 0
      },
      "text/plain": [
       "Validation: |          | 0/? [00:00<?, ?it/s]"
      ]
     },
     "metadata": {},
     "output_type": "display_data"
    },
    {
     "data": {
      "application/vnd.jupyter.widget-view+json": {
       "model_id": "26453a9c8ff94a70b4ff5087fd40256e",
       "version_major": 2,
       "version_minor": 0
      },
      "text/plain": [
       "Validation: |          | 0/? [00:00<?, ?it/s]"
      ]
     },
     "metadata": {},
     "output_type": "display_data"
    },
    {
     "name": "stderr",
     "output_type": "stream",
     "text": [
      "`Trainer.fit` stopped: `max_steps=310` reached.\n",
      "GPU available: False, used: False\n",
      "TPU available: False, using: 0 TPU cores\n",
      "HPU available: False, using: 0 HPUs\n"
     ]
    },
    {
     "data": {
      "application/vnd.jupyter.widget-view+json": {
       "model_id": "516911e656b34dbfab9afd2a6ae7b286",
       "version_major": 2,
       "version_minor": 0
      },
      "text/plain": [
       "Predicting: |          | 0/? [00:00<?, ?it/s]"
      ]
     },
     "metadata": {},
     "output_type": "display_data"
    },
    {
     "name": "stderr",
     "output_type": "stream",
     "text": [
      "Seed set to 1\n",
      "GPU available: False, used: False\n",
      "TPU available: False, using: 0 TPU cores\n",
      "HPU available: False, using: 0 HPUs\n"
     ]
    },
    {
     "name": "stdout",
     "output_type": "stream",
     "text": [
      "Hình dạng dự báo: (240, 10)\n",
      "MAE: 25.6858 | Tham số: {'input_size': 41, 'max_steps': 310, 'encoder_n_layers': 2, 'batch_size': 32, 'decoder_layers': 3, 'learning_rate': 2.9210748185657167e-05}\n",
      "Hình dạng dữ liệu đầu vào: (2556, 3)\n"
     ]
    },
    {
     "name": "stderr",
     "output_type": "stream",
     "text": [
      "\n",
      "  | Name         | Type             | Params | Mode \n",
      "----------------------------------------------------------\n",
      "0 | loss         | DistributionLoss | 5      | train\n",
      "1 | padder_train | ConstantPad1d    | 0      | train\n",
      "2 | scaler       | TemporalNorm     | 0      | train\n",
      "3 | hist_encoder | LSTM             | 6.1 K  | train\n",
      "----------------------------------------------------------\n",
      "6.1 K     Trainable params\n",
      "5         Non-trainable params\n",
      "6.1 K     Total params\n",
      "0.025     Total estimated model params size (MB)\n",
      "4         Modules in train mode\n",
      "0         Modules in eval mode\n"
     ]
    },
    {
     "data": {
      "application/vnd.jupyter.widget-view+json": {
       "model_id": "96625596e31f4006b5df934e30b0050d",
       "version_major": 2,
       "version_minor": 0
      },
      "text/plain": [
       "Sanity Checking: |          | 0/? [00:00<?, ?it/s]"
      ]
     },
     "metadata": {},
     "output_type": "display_data"
    },
    {
     "data": {
      "application/vnd.jupyter.widget-view+json": {
       "model_id": "e5d70e41b5624ae495ad3e909c56e3e1",
       "version_major": 2,
       "version_minor": 0
      },
      "text/plain": [
       "Training: |          | 0/? [00:00<?, ?it/s]"
      ]
     },
     "metadata": {},
     "output_type": "display_data"
    },
    {
     "data": {
      "application/vnd.jupyter.widget-view+json": {
       "model_id": "d9eb4612908a499eac6f2319f8991b47",
       "version_major": 2,
       "version_minor": 0
      },
      "text/plain": [
       "Validation: |          | 0/? [00:00<?, ?it/s]"
      ]
     },
     "metadata": {},
     "output_type": "display_data"
    },
    {
     "data": {
      "application/vnd.jupyter.widget-view+json": {
       "model_id": "f1df39d549fc484fa0b43ca7b7a62365",
       "version_major": 2,
       "version_minor": 0
      },
      "text/plain": [
       "Validation: |          | 0/? [00:00<?, ?it/s]"
      ]
     },
     "metadata": {},
     "output_type": "display_data"
    },
    {
     "data": {
      "application/vnd.jupyter.widget-view+json": {
       "model_id": "534e1a1856304a5aa1ab6e7cc907334b",
       "version_major": 2,
       "version_minor": 0
      },
      "text/plain": [
       "Validation: |          | 0/? [00:00<?, ?it/s]"
      ]
     },
     "metadata": {},
     "output_type": "display_data"
    },
    {
     "name": "stderr",
     "output_type": "stream",
     "text": [
      "`Trainer.fit` stopped: `max_steps=347` reached.\n",
      "GPU available: False, used: False\n",
      "TPU available: False, using: 0 TPU cores\n",
      "HPU available: False, using: 0 HPUs\n"
     ]
    },
    {
     "data": {
      "application/vnd.jupyter.widget-view+json": {
       "model_id": "a9793015e9654ba3a998965b344d369e",
       "version_major": 2,
       "version_minor": 0
      },
      "text/plain": [
       "Predicting: |          | 0/? [00:00<?, ?it/s]"
      ]
     },
     "metadata": {},
     "output_type": "display_data"
    },
    {
     "name": "stderr",
     "output_type": "stream",
     "text": [
      "Seed set to 1\n",
      "GPU available: False, used: False\n",
      "TPU available: False, using: 0 TPU cores\n",
      "HPU available: False, using: 0 HPUs\n"
     ]
    },
    {
     "name": "stdout",
     "output_type": "stream",
     "text": [
      "Hình dạng dự báo: (240, 10)\n",
      "MAE: 29.5763 | Tham số: {'input_size': 44, 'max_steps': 347, 'encoder_n_layers': 2, 'batch_size': 64, 'decoder_layers': 2, 'learning_rate': 0.0005246634533625288}\n",
      "Hình dạng dữ liệu đầu vào: (2556, 3)\n"
     ]
    },
    {
     "name": "stderr",
     "output_type": "stream",
     "text": [
      "\n",
      "  | Name         | Type             | Params | Mode \n",
      "----------------------------------------------------------\n",
      "0 | loss         | DistributionLoss | 5      | train\n",
      "1 | padder_train | ConstantPad1d    | 0      | train\n",
      "2 | scaler       | TemporalNorm     | 0      | train\n",
      "3 | hist_encoder | LSTM             | 2.8 K  | train\n",
      "----------------------------------------------------------\n",
      "2.8 K     Trainable params\n",
      "5         Non-trainable params\n",
      "2.8 K     Total params\n",
      "0.011     Total estimated model params size (MB)\n",
      "4         Modules in train mode\n",
      "0         Modules in eval mode\n"
     ]
    },
    {
     "data": {
      "application/vnd.jupyter.widget-view+json": {
       "model_id": "70d2bc11016a48d092155de718a40b5b",
       "version_major": 2,
       "version_minor": 0
      },
      "text/plain": [
       "Sanity Checking: |          | 0/? [00:00<?, ?it/s]"
      ]
     },
     "metadata": {},
     "output_type": "display_data"
    },
    {
     "data": {
      "application/vnd.jupyter.widget-view+json": {
       "model_id": "9090e04fadf249ffbbaae40dd3e21315",
       "version_major": 2,
       "version_minor": 0
      },
      "text/plain": [
       "Training: |          | 0/? [00:00<?, ?it/s]"
      ]
     },
     "metadata": {},
     "output_type": "display_data"
    },
    {
     "data": {
      "application/vnd.jupyter.widget-view+json": {
       "model_id": "fabe5ae876fc42d78471efa2083e2311",
       "version_major": 2,
       "version_minor": 0
      },
      "text/plain": [
       "Validation: |          | 0/? [00:00<?, ?it/s]"
      ]
     },
     "metadata": {},
     "output_type": "display_data"
    },
    {
     "data": {
      "application/vnd.jupyter.widget-view+json": {
       "model_id": "bcb0ac09b4f142f8a20c3f5fe9dbd920",
       "version_major": 2,
       "version_minor": 0
      },
      "text/plain": [
       "Validation: |          | 0/? [00:00<?, ?it/s]"
      ]
     },
     "metadata": {},
     "output_type": "display_data"
    },
    {
     "name": "stderr",
     "output_type": "stream",
     "text": [
      "`Trainer.fit` stopped: `max_steps=280` reached.\n",
      "GPU available: False, used: False\n",
      "TPU available: False, using: 0 TPU cores\n",
      "HPU available: False, using: 0 HPUs\n"
     ]
    },
    {
     "data": {
      "application/vnd.jupyter.widget-view+json": {
       "model_id": "d681f009fad64e52a5ecb7d4c76cbe55",
       "version_major": 2,
       "version_minor": 0
      },
      "text/plain": [
       "Predicting: |          | 0/? [00:00<?, ?it/s]"
      ]
     },
     "metadata": {},
     "output_type": "display_data"
    },
    {
     "name": "stderr",
     "output_type": "stream",
     "text": [
      "Seed set to 1\n",
      "GPU available: False, used: False\n",
      "TPU available: False, using: 0 TPU cores\n",
      "HPU available: False, using: 0 HPUs\n"
     ]
    },
    {
     "name": "stdout",
     "output_type": "stream",
     "text": [
      "Hình dạng dự báo: (240, 10)\n",
      "MAE: 24.1823 | Tham số: {'input_size': 67, 'max_steps': 280, 'encoder_n_layers': 1, 'batch_size': 64, 'decoder_layers': 2, 'learning_rate': 5.899741796710488e-05}\n",
      "Điểm tốt nhất mới: 24.1823 tại vòng lặp 6\n",
      "Hình dạng dữ liệu đầu vào: (2556, 3)\n"
     ]
    },
    {
     "name": "stderr",
     "output_type": "stream",
     "text": [
      "\n",
      "  | Name         | Type             | Params | Mode \n",
      "----------------------------------------------------------\n",
      "0 | loss         | DistributionLoss | 5      | train\n",
      "1 | padder_train | ConstantPad1d    | 0      | train\n",
      "2 | scaler       | TemporalNorm     | 0      | train\n",
      "3 | hist_encoder | LSTM             | 2.8 K  | train\n",
      "----------------------------------------------------------\n",
      "2.8 K     Trainable params\n",
      "5         Non-trainable params\n",
      "2.8 K     Total params\n",
      "0.011     Total estimated model params size (MB)\n",
      "4         Modules in train mode\n",
      "0         Modules in eval mode\n"
     ]
    },
    {
     "data": {
      "application/vnd.jupyter.widget-view+json": {
       "model_id": "ede0d54328844da48e769e4dffc8342a",
       "version_major": 2,
       "version_minor": 0
      },
      "text/plain": [
       "Sanity Checking: |          | 0/? [00:00<?, ?it/s]"
      ]
     },
     "metadata": {},
     "output_type": "display_data"
    },
    {
     "data": {
      "application/vnd.jupyter.widget-view+json": {
       "model_id": "f72e8fbe11c8425db94d562d51c50237",
       "version_major": 2,
       "version_minor": 0
      },
      "text/plain": [
       "Training: |          | 0/? [00:00<?, ?it/s]"
      ]
     },
     "metadata": {},
     "output_type": "display_data"
    },
    {
     "data": {
      "application/vnd.jupyter.widget-view+json": {
       "model_id": "75e2bb76c56c4cab87f9a3569e9bcc97",
       "version_major": 2,
       "version_minor": 0
      },
      "text/plain": [
       "Validation: |          | 0/? [00:00<?, ?it/s]"
      ]
     },
     "metadata": {},
     "output_type": "display_data"
    },
    {
     "name": "stderr",
     "output_type": "stream",
     "text": [
      "`Trainer.fit` stopped: `max_steps=192` reached.\n",
      "GPU available: False, used: False\n",
      "TPU available: False, using: 0 TPU cores\n",
      "HPU available: False, using: 0 HPUs\n"
     ]
    },
    {
     "data": {
      "application/vnd.jupyter.widget-view+json": {
       "model_id": "b72bff3e8e654002aac61dda31330781",
       "version_major": 2,
       "version_minor": 0
      },
      "text/plain": [
       "Predicting: |          | 0/? [00:00<?, ?it/s]"
      ]
     },
     "metadata": {},
     "output_type": "display_data"
    },
    {
     "name": "stderr",
     "output_type": "stream",
     "text": [
      "Seed set to 1\n",
      "GPU available: False, used: False\n",
      "TPU available: False, using: 0 TPU cores\n",
      "HPU available: False, using: 0 HPUs\n"
     ]
    },
    {
     "name": "stdout",
     "output_type": "stream",
     "text": [
      "Hình dạng dự báo: (240, 10)\n",
      "MAE: 25.6381 | Tham số: {'input_size': 41, 'max_steps': 192, 'encoder_n_layers': 1, 'batch_size': 64, 'decoder_layers': 2, 'learning_rate': 0.00046386309723972817}\n",
      "Hình dạng dữ liệu đầu vào: (2556, 3)\n"
     ]
    },
    {
     "name": "stderr",
     "output_type": "stream",
     "text": [
      "\n",
      "  | Name         | Type             | Params | Mode \n",
      "----------------------------------------------------------\n",
      "0 | loss         | DistributionLoss | 5      | train\n",
      "1 | padder_train | ConstantPad1d    | 0      | train\n",
      "2 | scaler       | TemporalNorm     | 0      | train\n",
      "3 | hist_encoder | LSTM             | 2.8 K  | train\n",
      "----------------------------------------------------------\n",
      "2.8 K     Trainable params\n",
      "5         Non-trainable params\n",
      "2.8 K     Total params\n",
      "0.011     Total estimated model params size (MB)\n",
      "4         Modules in train mode\n",
      "0         Modules in eval mode\n"
     ]
    },
    {
     "data": {
      "application/vnd.jupyter.widget-view+json": {
       "model_id": "ac183860b4ae4e4c98e7831e076d8b2f",
       "version_major": 2,
       "version_minor": 0
      },
      "text/plain": [
       "Sanity Checking: |          | 0/? [00:00<?, ?it/s]"
      ]
     },
     "metadata": {},
     "output_type": "display_data"
    },
    {
     "data": {
      "application/vnd.jupyter.widget-view+json": {
       "model_id": "28e0c1a1a97a40e09fd550eee9af5b8e",
       "version_major": 2,
       "version_minor": 0
      },
      "text/plain": [
       "Training: |          | 0/? [00:00<?, ?it/s]"
      ]
     },
     "metadata": {},
     "output_type": "display_data"
    },
    {
     "data": {
      "application/vnd.jupyter.widget-view+json": {
       "model_id": "e0069d7a7b7c4527a079d2f21b53266e",
       "version_major": 2,
       "version_minor": 0
      },
      "text/plain": [
       "Validation: |          | 0/? [00:00<?, ?it/s]"
      ]
     },
     "metadata": {},
     "output_type": "display_data"
    },
    {
     "data": {
      "application/vnd.jupyter.widget-view+json": {
       "model_id": "a324405fb852474f80a24fdb675976f5",
       "version_major": 2,
       "version_minor": 0
      },
      "text/plain": [
       "Validation: |          | 0/? [00:00<?, ?it/s]"
      ]
     },
     "metadata": {},
     "output_type": "display_data"
    },
    {
     "name": "stderr",
     "output_type": "stream",
     "text": [
      "`Trainer.fit` stopped: `max_steps=256` reached.\n",
      "GPU available: False, used: False\n",
      "TPU available: False, using: 0 TPU cores\n",
      "HPU available: False, using: 0 HPUs\n"
     ]
    },
    {
     "data": {
      "application/vnd.jupyter.widget-view+json": {
       "model_id": "d8665f8ca9154c3fa0546f65793a36eb",
       "version_major": 2,
       "version_minor": 0
      },
      "text/plain": [
       "Predicting: |          | 0/? [00:00<?, ?it/s]"
      ]
     },
     "metadata": {},
     "output_type": "display_data"
    },
    {
     "name": "stderr",
     "output_type": "stream",
     "text": [
      "Seed set to 1\n",
      "GPU available: False, used: False\n",
      "TPU available: False, using: 0 TPU cores\n",
      "HPU available: False, using: 0 HPUs\n"
     ]
    },
    {
     "name": "stdout",
     "output_type": "stream",
     "text": [
      "Hình dạng dự báo: (240, 10)\n",
      "MAE: 25.0138 | Tham số: {'input_size': 47, 'max_steps': 256, 'encoder_n_layers': 1, 'batch_size': 64, 'decoder_layers': 2, 'learning_rate': 2.6054534945803988e-05}\n",
      "Hình dạng dữ liệu đầu vào: (2556, 3)\n"
     ]
    },
    {
     "name": "stderr",
     "output_type": "stream",
     "text": [
      "\n",
      "  | Name         | Type             | Params | Mode \n",
      "----------------------------------------------------------\n",
      "0 | loss         | DistributionLoss | 5      | train\n",
      "1 | padder_train | ConstantPad1d    | 0      | train\n",
      "2 | scaler       | TemporalNorm     | 0      | train\n",
      "3 | hist_encoder | LSTM             | 9.5 K  | train\n",
      "----------------------------------------------------------\n",
      "9.5 K     Trainable params\n",
      "5         Non-trainable params\n",
      "9.5 K     Total params\n",
      "0.038     Total estimated model params size (MB)\n",
      "4         Modules in train mode\n",
      "0         Modules in eval mode\n"
     ]
    },
    {
     "data": {
      "application/vnd.jupyter.widget-view+json": {
       "model_id": "875c067ccf3e4747bed26302cbc414ae",
       "version_major": 2,
       "version_minor": 0
      },
      "text/plain": [
       "Sanity Checking: |          | 0/? [00:00<?, ?it/s]"
      ]
     },
     "metadata": {},
     "output_type": "display_data"
    },
    {
     "data": {
      "application/vnd.jupyter.widget-view+json": {
       "model_id": "aaf075953cf247e08750929b12273412",
       "version_major": 2,
       "version_minor": 0
      },
      "text/plain": [
       "Training: |          | 0/? [00:00<?, ?it/s]"
      ]
     },
     "metadata": {},
     "output_type": "display_data"
    },
    {
     "data": {
      "application/vnd.jupyter.widget-view+json": {
       "model_id": "0d2d35e222a64b2298701f405e0ea3f9",
       "version_major": 2,
       "version_minor": 0
      },
      "text/plain": [
       "Validation: |          | 0/? [00:00<?, ?it/s]"
      ]
     },
     "metadata": {},
     "output_type": "display_data"
    },
    {
     "name": "stderr",
     "output_type": "stream",
     "text": [
      "`Trainer.fit` stopped: `max_steps=113` reached.\n",
      "GPU available: False, used: False\n",
      "TPU available: False, using: 0 TPU cores\n",
      "HPU available: False, using: 0 HPUs\n"
     ]
    },
    {
     "data": {
      "application/vnd.jupyter.widget-view+json": {
       "model_id": "b27f65bb274c43b7bad46161b0fe5335",
       "version_major": 2,
       "version_minor": 0
      },
      "text/plain": [
       "Predicting: |          | 0/? [00:00<?, ?it/s]"
      ]
     },
     "metadata": {},
     "output_type": "display_data"
    },
    {
     "name": "stderr",
     "output_type": "stream",
     "text": [
      "Seed set to 1\n",
      "GPU available: False, used: False\n",
      "TPU available: False, using: 0 TPU cores\n",
      "HPU available: False, using: 0 HPUs\n"
     ]
    },
    {
     "name": "stdout",
     "output_type": "stream",
     "text": [
      "Hình dạng dự báo: (240, 10)\n",
      "MAE: 24.8180 | Tham số: {'input_size': 63, 'max_steps': 113, 'encoder_n_layers': 3, 'batch_size': 32, 'decoder_layers': 2, 'learning_rate': 0.0007133747470888437}\n",
      "Hình dạng dữ liệu đầu vào: (2556, 3)\n"
     ]
    },
    {
     "name": "stderr",
     "output_type": "stream",
     "text": [
      "\n",
      "  | Name         | Type             | Params | Mode \n",
      "----------------------------------------------------------\n",
      "0 | loss         | DistributionLoss | 5      | train\n",
      "1 | padder_train | ConstantPad1d    | 0      | train\n",
      "2 | scaler       | TemporalNorm     | 0      | train\n",
      "3 | hist_encoder | LSTM             | 6.1 K  | train\n",
      "----------------------------------------------------------\n",
      "6.1 K     Trainable params\n",
      "5         Non-trainable params\n",
      "6.1 K     Total params\n",
      "0.025     Total estimated model params size (MB)\n",
      "4         Modules in train mode\n",
      "0         Modules in eval mode\n"
     ]
    },
    {
     "data": {
      "application/vnd.jupyter.widget-view+json": {
       "model_id": "740ab96be54c4ff68100b4241db2774d",
       "version_major": 2,
       "version_minor": 0
      },
      "text/plain": [
       "Sanity Checking: |          | 0/? [00:00<?, ?it/s]"
      ]
     },
     "metadata": {},
     "output_type": "display_data"
    },
    {
     "data": {
      "application/vnd.jupyter.widget-view+json": {
       "model_id": "a3c2dfa2c1f5457db08e6a0b76cb1077",
       "version_major": 2,
       "version_minor": 0
      },
      "text/plain": [
       "Training: |          | 0/? [00:00<?, ?it/s]"
      ]
     },
     "metadata": {},
     "output_type": "display_data"
    },
    {
     "data": {
      "application/vnd.jupyter.widget-view+json": {
       "model_id": "390ca5dbadba4669991e38cde809cfb0",
       "version_major": 2,
       "version_minor": 0
      },
      "text/plain": [
       "Validation: |          | 0/? [00:00<?, ?it/s]"
      ]
     },
     "metadata": {},
     "output_type": "display_data"
    },
    {
     "data": {
      "application/vnd.jupyter.widget-view+json": {
       "model_id": "432cee8cba5a4eb88375f46aee5f7930",
       "version_major": 2,
       "version_minor": 0
      },
      "text/plain": [
       "Validation: |          | 0/? [00:00<?, ?it/s]"
      ]
     },
     "metadata": {},
     "output_type": "display_data"
    },
    {
     "name": "stderr",
     "output_type": "stream",
     "text": [
      "`Trainer.fit` stopped: `max_steps=231` reached.\n",
      "GPU available: False, used: False\n",
      "TPU available: False, using: 0 TPU cores\n",
      "HPU available: False, using: 0 HPUs\n"
     ]
    },
    {
     "data": {
      "application/vnd.jupyter.widget-view+json": {
       "model_id": "711b511e6f2f41d7a8a73993304fc4bc",
       "version_major": 2,
       "version_minor": 0
      },
      "text/plain": [
       "Predicting: |          | 0/? [00:00<?, ?it/s]"
      ]
     },
     "metadata": {},
     "output_type": "display_data"
    },
    {
     "name": "stdout",
     "output_type": "stream",
     "text": [
      "Hình dạng dự báo: (240, 10)\n",
      "MAE: 27.2606 | Tham số: {'input_size': 69, 'max_steps': 231, 'encoder_n_layers': 2, 'batch_size': 64, 'decoder_layers': 3, 'learning_rate': 0.0004887285358835577}\n"
     ]
    },
    {
     "name": "stderr",
     "output_type": "stream",
     "text": [
      "Seed set to 1\n",
      "GPU available: False, used: False\n",
      "TPU available: False, using: 0 TPU cores\n",
      "HPU available: False, using: 0 HPUs\n"
     ]
    },
    {
     "name": "stdout",
     "output_type": "stream",
     "text": [
      "Hình dạng dữ liệu đầu vào: (2556, 3)\n"
     ]
    },
    {
     "name": "stderr",
     "output_type": "stream",
     "text": [
      "\n",
      "  | Name         | Type             | Params | Mode \n",
      "----------------------------------------------------------\n",
      "0 | loss         | DistributionLoss | 5      | train\n",
      "1 | padder_train | ConstantPad1d    | 0      | train\n",
      "2 | scaler       | TemporalNorm     | 0      | train\n",
      "3 | hist_encoder | LSTM             | 9.5 K  | train\n",
      "----------------------------------------------------------\n",
      "9.5 K     Trainable params\n",
      "5         Non-trainable params\n",
      "9.5 K     Total params\n",
      "0.038     Total estimated model params size (MB)\n",
      "4         Modules in train mode\n",
      "0         Modules in eval mode\n"
     ]
    },
    {
     "data": {
      "application/vnd.jupyter.widget-view+json": {
       "model_id": "5e0d9fc7c0f0416bb43c6a9cbe0cf4cf",
       "version_major": 2,
       "version_minor": 0
      },
      "text/plain": [
       "Sanity Checking: |          | 0/? [00:00<?, ?it/s]"
      ]
     },
     "metadata": {},
     "output_type": "display_data"
    },
    {
     "name": "stdout",
     "output_type": "stream",
     "text": [
      "Lỗi trong hàm mục tiêu: batch_size should be a positive integer value, but got batch_size=64\n"
     ]
    },
    {
     "name": "stderr",
     "output_type": "stream",
     "text": [
      "Seed set to 1\n",
      "GPU available: False, used: False\n",
      "TPU available: False, using: 0 TPU cores\n",
      "HPU available: False, using: 0 HPUs\n"
     ]
    },
    {
     "name": "stdout",
     "output_type": "stream",
     "text": [
      "Hình dạng dữ liệu đầu vào: (2556, 3)\n"
     ]
    },
    {
     "name": "stderr",
     "output_type": "stream",
     "text": [
      "\n",
      "  | Name         | Type             | Params | Mode \n",
      "----------------------------------------------------------\n",
      "0 | loss         | DistributionLoss | 5      | train\n",
      "1 | padder_train | ConstantPad1d    | 0      | train\n",
      "2 | scaler       | TemporalNorm     | 0      | train\n",
      "3 | hist_encoder | LSTM             | 2.8 K  | train\n",
      "----------------------------------------------------------\n",
      "2.8 K     Trainable params\n",
      "5         Non-trainable params\n",
      "2.8 K     Total params\n",
      "0.011     Total estimated model params size (MB)\n",
      "4         Modules in train mode\n",
      "0         Modules in eval mode\n"
     ]
    },
    {
     "data": {
      "application/vnd.jupyter.widget-view+json": {
       "model_id": "f81b3afac5b1471d8f99d1fdd131696d",
       "version_major": 2,
       "version_minor": 0
      },
      "text/plain": [
       "Sanity Checking: |          | 0/? [00:00<?, ?it/s]"
      ]
     },
     "metadata": {},
     "output_type": "display_data"
    },
    {
     "name": "stdout",
     "output_type": "stream",
     "text": [
      "Lỗi trong hàm mục tiêu: batch_size should be a positive integer value, but got batch_size=64\n"
     ]
    },
    {
     "name": "stderr",
     "output_type": "stream",
     "text": [
      "Seed set to 1\n",
      "GPU available: False, used: False\n",
      "TPU available: False, using: 0 TPU cores\n",
      "HPU available: False, using: 0 HPUs\n"
     ]
    },
    {
     "name": "stdout",
     "output_type": "stream",
     "text": [
      "Hình dạng dữ liệu đầu vào: (2556, 3)\n"
     ]
    },
    {
     "name": "stderr",
     "output_type": "stream",
     "text": [
      "\n",
      "  | Name         | Type             | Params | Mode \n",
      "----------------------------------------------------------\n",
      "0 | loss         | DistributionLoss | 5      | train\n",
      "1 | padder_train | ConstantPad1d    | 0      | train\n",
      "2 | scaler       | TemporalNorm     | 0      | train\n",
      "3 | hist_encoder | LSTM             | 9.5 K  | train\n",
      "----------------------------------------------------------\n",
      "9.5 K     Trainable params\n",
      "5         Non-trainable params\n",
      "9.5 K     Total params\n",
      "0.038     Total estimated model params size (MB)\n",
      "4         Modules in train mode\n",
      "0         Modules in eval mode\n"
     ]
    },
    {
     "data": {
      "application/vnd.jupyter.widget-view+json": {
       "model_id": "e4c06bb53f5046d49c4cf651182b037a",
       "version_major": 2,
       "version_minor": 0
      },
      "text/plain": [
       "Sanity Checking: |          | 0/? [00:00<?, ?it/s]"
      ]
     },
     "metadata": {},
     "output_type": "display_data"
    },
    {
     "name": "stdout",
     "output_type": "stream",
     "text": [
      "Lỗi trong hàm mục tiêu: batch_size should be a positive integer value, but got batch_size=64\n"
     ]
    },
    {
     "name": "stderr",
     "output_type": "stream",
     "text": [
      "Seed set to 1\n",
      "GPU available: False, used: False\n",
      "TPU available: False, using: 0 TPU cores\n",
      "HPU available: False, using: 0 HPUs\n"
     ]
    },
    {
     "name": "stdout",
     "output_type": "stream",
     "text": [
      "Hình dạng dữ liệu đầu vào: (2556, 3)\n"
     ]
    },
    {
     "name": "stderr",
     "output_type": "stream",
     "text": [
      "\n",
      "  | Name         | Type             | Params | Mode \n",
      "----------------------------------------------------------\n",
      "0 | loss         | DistributionLoss | 5      | train\n",
      "1 | padder_train | ConstantPad1d    | 0      | train\n",
      "2 | scaler       | TemporalNorm     | 0      | train\n",
      "3 | hist_encoder | LSTM             | 2.8 K  | train\n",
      "----------------------------------------------------------\n",
      "2.8 K     Trainable params\n",
      "5         Non-trainable params\n",
      "2.8 K     Total params\n",
      "0.011     Total estimated model params size (MB)\n",
      "4         Modules in train mode\n",
      "0         Modules in eval mode\n"
     ]
    },
    {
     "data": {
      "application/vnd.jupyter.widget-view+json": {
       "model_id": "acd2e9a3e3dd4138963e5c6dfc6f3d3e",
       "version_major": 2,
       "version_minor": 0
      },
      "text/plain": [
       "Sanity Checking: |          | 0/? [00:00<?, ?it/s]"
      ]
     },
     "metadata": {},
     "output_type": "display_data"
    },
    {
     "name": "stdout",
     "output_type": "stream",
     "text": [
      "Lỗi trong hàm mục tiêu: batch_size should be a positive integer value, but got batch_size=64\n"
     ]
    },
    {
     "name": "stderr",
     "output_type": "stream",
     "text": [
      "Seed set to 1\n",
      "GPU available: False, used: False\n",
      "TPU available: False, using: 0 TPU cores\n",
      "HPU available: False, using: 0 HPUs\n"
     ]
    },
    {
     "name": "stdout",
     "output_type": "stream",
     "text": [
      "Hình dạng dữ liệu đầu vào: (2556, 3)\n"
     ]
    },
    {
     "name": "stderr",
     "output_type": "stream",
     "text": [
      "\n",
      "  | Name         | Type             | Params | Mode \n",
      "----------------------------------------------------------\n",
      "0 | loss         | DistributionLoss | 5      | train\n",
      "1 | padder_train | ConstantPad1d    | 0      | train\n",
      "2 | scaler       | TemporalNorm     | 0      | train\n",
      "3 | hist_encoder | LSTM             | 9.5 K  | train\n",
      "----------------------------------------------------------\n",
      "9.5 K     Trainable params\n",
      "5         Non-trainable params\n",
      "9.5 K     Total params\n",
      "0.038     Total estimated model params size (MB)\n",
      "4         Modules in train mode\n",
      "0         Modules in eval mode\n"
     ]
    },
    {
     "data": {
      "application/vnd.jupyter.widget-view+json": {
       "model_id": "fc7f21defd73427c92df0e8069a3ae28",
       "version_major": 2,
       "version_minor": 0
      },
      "text/plain": [
       "Sanity Checking: |          | 0/? [00:00<?, ?it/s]"
      ]
     },
     "metadata": {},
     "output_type": "display_data"
    },
    {
     "name": "stdout",
     "output_type": "stream",
     "text": [
      "Lỗi trong hàm mục tiêu: batch_size should be a positive integer value, but got batch_size=64\n"
     ]
    },
    {
     "name": "stderr",
     "output_type": "stream",
     "text": [
      "Seed set to 1\n",
      "GPU available: False, used: False\n",
      "TPU available: False, using: 0 TPU cores\n",
      "HPU available: False, using: 0 HPUs\n"
     ]
    },
    {
     "name": "stdout",
     "output_type": "stream",
     "text": [
      "Hình dạng dữ liệu đầu vào: (2556, 3)\n"
     ]
    },
    {
     "name": "stderr",
     "output_type": "stream",
     "text": [
      "\n",
      "  | Name         | Type             | Params | Mode \n",
      "----------------------------------------------------------\n",
      "0 | loss         | DistributionLoss | 5      | train\n",
      "1 | padder_train | ConstantPad1d    | 0      | train\n",
      "2 | scaler       | TemporalNorm     | 0      | train\n",
      "3 | hist_encoder | LSTM             | 6.1 K  | train\n",
      "----------------------------------------------------------\n",
      "6.1 K     Trainable params\n",
      "5         Non-trainable params\n",
      "6.1 K     Total params\n",
      "0.025     Total estimated model params size (MB)\n",
      "4         Modules in train mode\n",
      "0         Modules in eval mode\n"
     ]
    },
    {
     "data": {
      "application/vnd.jupyter.widget-view+json": {
       "model_id": "b6d2e08d15cf46ff94fbd5bf0b519f76",
       "version_major": 2,
       "version_minor": 0
      },
      "text/plain": [
       "Sanity Checking: |          | 0/? [00:00<?, ?it/s]"
      ]
     },
     "metadata": {},
     "output_type": "display_data"
    },
    {
     "name": "stdout",
     "output_type": "stream",
     "text": [
      "Lỗi trong hàm mục tiêu: batch_size should be a positive integer value, but got batch_size=64\n"
     ]
    },
    {
     "name": "stderr",
     "output_type": "stream",
     "text": [
      "Seed set to 1\n",
      "GPU available: False, used: False\n",
      "TPU available: False, using: 0 TPU cores\n"
     ]
    },
    {
     "name": "stdout",
     "output_type": "stream",
     "text": [
      "Hình dạng dữ liệu đầu vào: (2556, 3)\n"
     ]
    },
    {
     "name": "stderr",
     "output_type": "stream",
     "text": [
      "HPU available: False, using: 0 HPUs\n",
      "\n",
      "  | Name         | Type             | Params | Mode \n",
      "----------------------------------------------------------\n",
      "0 | loss         | DistributionLoss | 5      | train\n",
      "1 | padder_train | ConstantPad1d    | 0      | train\n",
      "2 | scaler       | TemporalNorm     | 0      | train\n",
      "3 | hist_encoder | LSTM             | 6.1 K  | train\n",
      "----------------------------------------------------------\n",
      "6.1 K     Trainable params\n",
      "5         Non-trainable params\n",
      "6.1 K     Total params\n",
      "0.025     Total estimated model params size (MB)\n",
      "4         Modules in train mode\n",
      "0         Modules in eval mode\n"
     ]
    },
    {
     "data": {
      "application/vnd.jupyter.widget-view+json": {
       "model_id": "df884b399ca04c2d8324fe3de3d7fcf1",
       "version_major": 2,
       "version_minor": 0
      },
      "text/plain": [
       "Sanity Checking: |          | 0/? [00:00<?, ?it/s]"
      ]
     },
     "metadata": {},
     "output_type": "display_data"
    },
    {
     "name": "stdout",
     "output_type": "stream",
     "text": [
      "Lỗi trong hàm mục tiêu: batch_size should be a positive integer value, but got batch_size=32\n"
     ]
    },
    {
     "name": "stderr",
     "output_type": "stream",
     "text": [
      "Seed set to 1\n",
      "GPU available: False, used: False\n",
      "TPU available: False, using: 0 TPU cores\n",
      "HPU available: False, using: 0 HPUs\n"
     ]
    },
    {
     "name": "stdout",
     "output_type": "stream",
     "text": [
      "Hình dạng dữ liệu đầu vào: (2556, 3)\n"
     ]
    },
    {
     "name": "stderr",
     "output_type": "stream",
     "text": [
      "\n",
      "  | Name         | Type             | Params | Mode \n",
      "----------------------------------------------------------\n",
      "0 | loss         | DistributionLoss | 5      | train\n",
      "1 | padder_train | ConstantPad1d    | 0      | train\n",
      "2 | scaler       | TemporalNorm     | 0      | train\n",
      "3 | hist_encoder | LSTM             | 2.8 K  | train\n",
      "----------------------------------------------------------\n",
      "2.8 K     Trainable params\n",
      "5         Non-trainable params\n",
      "2.8 K     Total params\n",
      "0.011     Total estimated model params size (MB)\n",
      "4         Modules in train mode\n",
      "0         Modules in eval mode\n"
     ]
    },
    {
     "data": {
      "application/vnd.jupyter.widget-view+json": {
       "model_id": "4d65bcc354734318b90fef865609ae51",
       "version_major": 2,
       "version_minor": 0
      },
      "text/plain": [
       "Sanity Checking: |          | 0/? [00:00<?, ?it/s]"
      ]
     },
     "metadata": {},
     "output_type": "display_data"
    },
    {
     "name": "stdout",
     "output_type": "stream",
     "text": [
      "Lỗi trong hàm mục tiêu: batch_size should be a positive integer value, but got batch_size=64\n"
     ]
    },
    {
     "name": "stderr",
     "output_type": "stream",
     "text": [
      "Seed set to 1\n",
      "GPU available: False, used: False\n",
      "TPU available: False, using: 0 TPU cores\n",
      "HPU available: False, using: 0 HPUs\n"
     ]
    },
    {
     "name": "stdout",
     "output_type": "stream",
     "text": [
      "Hình dạng dữ liệu đầu vào: (2556, 3)\n"
     ]
    },
    {
     "name": "stderr",
     "output_type": "stream",
     "text": [
      "\n",
      "  | Name         | Type             | Params | Mode \n",
      "----------------------------------------------------------\n",
      "0 | loss         | DistributionLoss | 5      | train\n",
      "1 | padder_train | ConstantPad1d    | 0      | train\n",
      "2 | scaler       | TemporalNorm     | 0      | train\n",
      "3 | hist_encoder | LSTM             | 9.5 K  | train\n",
      "----------------------------------------------------------\n",
      "9.5 K     Trainable params\n",
      "5         Non-trainable params\n",
      "9.5 K     Total params\n",
      "0.038     Total estimated model params size (MB)\n",
      "4         Modules in train mode\n",
      "0         Modules in eval mode\n"
     ]
    },
    {
     "data": {
      "application/vnd.jupyter.widget-view+json": {
       "model_id": "e80590b2b73746c4afaec285f7e2f518",
       "version_major": 2,
       "version_minor": 0
      },
      "text/plain": [
       "Sanity Checking: |          | 0/? [00:00<?, ?it/s]"
      ]
     },
     "metadata": {},
     "output_type": "display_data"
    },
    {
     "name": "stdout",
     "output_type": "stream",
     "text": [
      "Lỗi trong hàm mục tiêu: batch_size should be a positive integer value, but got batch_size=32\n"
     ]
    },
    {
     "name": "stderr",
     "output_type": "stream",
     "text": [
      "Seed set to 1\n",
      "GPU available: False, used: False\n",
      "TPU available: False, using: 0 TPU cores\n",
      "HPU available: False, using: 0 HPUs\n"
     ]
    },
    {
     "name": "stdout",
     "output_type": "stream",
     "text": [
      "Hình dạng dữ liệu đầu vào: (2556, 3)\n"
     ]
    },
    {
     "name": "stderr",
     "output_type": "stream",
     "text": [
      "\n",
      "  | Name         | Type             | Params | Mode \n",
      "----------------------------------------------------------\n",
      "0 | loss         | DistributionLoss | 5      | train\n",
      "1 | padder_train | ConstantPad1d    | 0      | train\n",
      "2 | scaler       | TemporalNorm     | 0      | train\n",
      "3 | hist_encoder | LSTM             | 2.8 K  | train\n",
      "----------------------------------------------------------\n",
      "2.8 K     Trainable params\n",
      "5         Non-trainable params\n",
      "2.8 K     Total params\n",
      "0.011     Total estimated model params size (MB)\n",
      "4         Modules in train mode\n",
      "0         Modules in eval mode\n"
     ]
    },
    {
     "data": {
      "application/vnd.jupyter.widget-view+json": {
       "model_id": "3b0371a9dbe74d0a9d09c9890a1a0665",
       "version_major": 2,
       "version_minor": 0
      },
      "text/plain": [
       "Sanity Checking: |          | 0/? [00:00<?, ?it/s]"
      ]
     },
     "metadata": {},
     "output_type": "display_data"
    },
    {
     "name": "stdout",
     "output_type": "stream",
     "text": [
      "Lỗi trong hàm mục tiêu: batch_size should be a positive integer value, but got batch_size=64\n"
     ]
    },
    {
     "name": "stderr",
     "output_type": "stream",
     "text": [
      "Seed set to 1\n",
      "GPU available: False, used: False\n",
      "TPU available: False, using: 0 TPU cores\n",
      "HPU available: False, using: 0 HPUs\n"
     ]
    },
    {
     "name": "stdout",
     "output_type": "stream",
     "text": [
      "Hình dạng dữ liệu đầu vào: (2556, 3)\n"
     ]
    },
    {
     "name": "stderr",
     "output_type": "stream",
     "text": [
      "\n",
      "  | Name         | Type             | Params | Mode \n",
      "----------------------------------------------------------\n",
      "0 | loss         | DistributionLoss | 5      | train\n",
      "1 | padder_train | ConstantPad1d    | 0      | train\n",
      "2 | scaler       | TemporalNorm     | 0      | train\n",
      "3 | hist_encoder | LSTM             | 9.5 K  | train\n",
      "----------------------------------------------------------\n",
      "9.5 K     Trainable params\n",
      "5         Non-trainable params\n",
      "9.5 K     Total params\n",
      "0.038     Total estimated model params size (MB)\n",
      "4         Modules in train mode\n",
      "0         Modules in eval mode\n"
     ]
    },
    {
     "data": {
      "application/vnd.jupyter.widget-view+json": {
       "model_id": "b1e4f88666634fd0a15ae23a7d4694c9",
       "version_major": 2,
       "version_minor": 0
      },
      "text/plain": [
       "Sanity Checking: |          | 0/? [00:00<?, ?it/s]"
      ]
     },
     "metadata": {},
     "output_type": "display_data"
    },
    {
     "name": "stdout",
     "output_type": "stream",
     "text": [
      "Lỗi trong hàm mục tiêu: batch_size should be a positive integer value, but got batch_size=32\n"
     ]
    },
    {
     "name": "stderr",
     "output_type": "stream",
     "text": [
      "Seed set to 1\n",
      "GPU available: False, used: False\n",
      "TPU available: False, using: 0 TPU cores\n",
      "HPU available: False, using: 0 HPUs\n"
     ]
    },
    {
     "name": "stdout",
     "output_type": "stream",
     "text": [
      "Hình dạng dữ liệu đầu vào: (2556, 3)\n"
     ]
    },
    {
     "name": "stderr",
     "output_type": "stream",
     "text": [
      "\n",
      "  | Name         | Type             | Params | Mode \n",
      "----------------------------------------------------------\n",
      "0 | loss         | DistributionLoss | 5      | train\n",
      "1 | padder_train | ConstantPad1d    | 0      | train\n",
      "2 | scaler       | TemporalNorm     | 0      | train\n",
      "3 | hist_encoder | LSTM             | 2.8 K  | train\n",
      "----------------------------------------------------------\n",
      "2.8 K     Trainable params\n",
      "5         Non-trainable params\n",
      "2.8 K     Total params\n",
      "0.011     Total estimated model params size (MB)\n",
      "4         Modules in train mode\n",
      "0         Modules in eval mode\n"
     ]
    },
    {
     "data": {
      "application/vnd.jupyter.widget-view+json": {
       "model_id": "b04b316a331b470fba50afa6f3833a8b",
       "version_major": 2,
       "version_minor": 0
      },
      "text/plain": [
       "Sanity Checking: |          | 0/? [00:00<?, ?it/s]"
      ]
     },
     "metadata": {},
     "output_type": "display_data"
    },
    {
     "name": "stdout",
     "output_type": "stream",
     "text": [
      "Lỗi trong hàm mục tiêu: batch_size should be a positive integer value, but got batch_size=64\n"
     ]
    },
    {
     "name": "stderr",
     "output_type": "stream",
     "text": [
      "Seed set to 1\n",
      "GPU available: False, used: False\n",
      "TPU available: False, using: 0 TPU cores\n",
      "HPU available: False, using: 0 HPUs\n"
     ]
    },
    {
     "name": "stdout",
     "output_type": "stream",
     "text": [
      "Hình dạng dữ liệu đầu vào: (2556, 3)\n"
     ]
    },
    {
     "name": "stderr",
     "output_type": "stream",
     "text": [
      "\n",
      "  | Name         | Type             | Params | Mode \n",
      "----------------------------------------------------------\n",
      "0 | loss         | DistributionLoss | 5      | train\n",
      "1 | padder_train | ConstantPad1d    | 0      | train\n",
      "2 | scaler       | TemporalNorm     | 0      | train\n",
      "3 | hist_encoder | LSTM             | 6.1 K  | train\n",
      "----------------------------------------------------------\n",
      "6.1 K     Trainable params\n",
      "5         Non-trainable params\n",
      "6.1 K     Total params\n",
      "0.025     Total estimated model params size (MB)\n",
      "4         Modules in train mode\n",
      "0         Modules in eval mode\n"
     ]
    },
    {
     "data": {
      "application/vnd.jupyter.widget-view+json": {
       "model_id": "4197680d57784663811f9f14bd6ee6f3",
       "version_major": 2,
       "version_minor": 0
      },
      "text/plain": [
       "Sanity Checking: |          | 0/? [00:00<?, ?it/s]"
      ]
     },
     "metadata": {},
     "output_type": "display_data"
    },
    {
     "name": "stdout",
     "output_type": "stream",
     "text": [
      "Lỗi trong hàm mục tiêu: batch_size should be a positive integer value, but got batch_size=64\n"
     ]
    },
    {
     "name": "stderr",
     "output_type": "stream",
     "text": [
      "Seed set to 1\n",
      "GPU available: False, used: False\n",
      "TPU available: False, using: 0 TPU cores\n",
      "HPU available: False, using: 0 HPUs\n"
     ]
    },
    {
     "name": "stdout",
     "output_type": "stream",
     "text": [
      "Hình dạng dữ liệu đầu vào: (2556, 3)\n"
     ]
    },
    {
     "name": "stderr",
     "output_type": "stream",
     "text": [
      "\n",
      "  | Name         | Type             | Params | Mode \n",
      "----------------------------------------------------------\n",
      "0 | loss         | DistributionLoss | 5      | train\n",
      "1 | padder_train | ConstantPad1d    | 0      | train\n",
      "2 | scaler       | TemporalNorm     | 0      | train\n",
      "3 | hist_encoder | LSTM             | 9.5 K  | train\n",
      "----------------------------------------------------------\n",
      "9.5 K     Trainable params\n",
      "5         Non-trainable params\n",
      "9.5 K     Total params\n",
      "0.038     Total estimated model params size (MB)\n",
      "4         Modules in train mode\n",
      "0         Modules in eval mode\n"
     ]
    },
    {
     "data": {
      "application/vnd.jupyter.widget-view+json": {
       "model_id": "ab6268d146304d4f8bd0f9764023cb77",
       "version_major": 2,
       "version_minor": 0
      },
      "text/plain": [
       "Sanity Checking: |          | 0/? [00:00<?, ?it/s]"
      ]
     },
     "metadata": {},
     "output_type": "display_data"
    },
    {
     "name": "stdout",
     "output_type": "stream",
     "text": [
      "Lỗi trong hàm mục tiêu: batch_size should be a positive integer value, but got batch_size=64\n"
     ]
    },
    {
     "name": "stderr",
     "output_type": "stream",
     "text": [
      "Seed set to 1\n"
     ]
    },
    {
     "name": "stdout",
     "output_type": "stream",
     "text": [
      "Hình dạng dữ liệu đầu vào: (2556, 3)\n"
     ]
    },
    {
     "name": "stderr",
     "output_type": "stream",
     "text": [
      "GPU available: False, used: False\n",
      "TPU available: False, using: 0 TPU cores\n",
      "HPU available: False, using: 0 HPUs\n",
      "\n",
      "  | Name         | Type             | Params | Mode \n",
      "----------------------------------------------------------\n",
      "0 | loss         | DistributionLoss | 5      | train\n",
      "1 | padder_train | ConstantPad1d    | 0      | train\n",
      "2 | scaler       | TemporalNorm     | 0      | train\n",
      "3 | hist_encoder | LSTM             | 2.8 K  | train\n",
      "----------------------------------------------------------\n",
      "2.8 K     Trainable params\n",
      "5         Non-trainable params\n",
      "2.8 K     Total params\n",
      "0.011     Total estimated model params size (MB)\n",
      "4         Modules in train mode\n",
      "0         Modules in eval mode\n"
     ]
    },
    {
     "data": {
      "application/vnd.jupyter.widget-view+json": {
       "model_id": "3af34656556a4af9835f3bfc8c0d3e59",
       "version_major": 2,
       "version_minor": 0
      },
      "text/plain": [
       "Sanity Checking: |          | 0/? [00:00<?, ?it/s]"
      ]
     },
     "metadata": {},
     "output_type": "display_data"
    },
    {
     "name": "stdout",
     "output_type": "stream",
     "text": [
      "Lỗi trong hàm mục tiêu: batch_size should be a positive integer value, but got batch_size=64\n"
     ]
    },
    {
     "name": "stderr",
     "output_type": "stream",
     "text": [
      "Seed set to 1\n",
      "GPU available: False, used: False\n",
      "TPU available: False, using: 0 TPU cores\n",
      "HPU available: False, using: 0 HPUs\n"
     ]
    },
    {
     "name": "stdout",
     "output_type": "stream",
     "text": [
      "Điểm GP tốt nhất: 24.1823\n",
      "Tham số GP tốt nhất:\n",
      "  input_size: 67\n",
      "  max_steps: 280\n",
      "  encoder_n_layers: 1\n",
      "  batch_size: 64\n",
      "  decoder_layers: 2\n",
      "  learning_rate: 5.899741796710488e-05\n",
      "\n",
      "============================================================\n",
      "PHƯƠNG PHÁP 2: TỐI ƯU HÓA GRADIENT BOOSTED TREES\n",
      "============================================================\n",
      "Hình dạng dữ liệu đầu vào: (2556, 3)\n"
     ]
    },
    {
     "name": "stderr",
     "output_type": "stream",
     "text": [
      "\n",
      "  | Name         | Type             | Params | Mode \n",
      "----------------------------------------------------------\n",
      "0 | loss         | DistributionLoss | 5      | train\n",
      "1 | padder_train | ConstantPad1d    | 0      | train\n",
      "2 | scaler       | TemporalNorm     | 0      | train\n",
      "3 | hist_encoder | LSTM             | 6.1 K  | train\n",
      "----------------------------------------------------------\n",
      "6.1 K     Trainable params\n",
      "5         Non-trainable params\n",
      "6.1 K     Total params\n",
      "0.025     Total estimated model params size (MB)\n",
      "4         Modules in train mode\n",
      "0         Modules in eval mode\n"
     ]
    },
    {
     "data": {
      "application/vnd.jupyter.widget-view+json": {
       "model_id": "7407823ca9be47f2bef9478e8e299dba",
       "version_major": 2,
       "version_minor": 0
      },
      "text/plain": [
       "Sanity Checking: |          | 0/? [00:00<?, ?it/s]"
      ]
     },
     "metadata": {},
     "output_type": "display_data"
    },
    {
     "data": {
      "application/vnd.jupyter.widget-view+json": {
       "model_id": "d75b33aa62854883b6fedad7ff20bc71",
       "version_major": 2,
       "version_minor": 0
      },
      "text/plain": [
       "Training: |          | 0/? [00:00<?, ?it/s]"
      ]
     },
     "metadata": {},
     "output_type": "display_data"
    },
    {
     "data": {
      "application/vnd.jupyter.widget-view+json": {
       "model_id": "17af8778edb34095bbc20da9b65e4915",
       "version_major": 2,
       "version_minor": 0
      },
      "text/plain": [
       "Validation: |          | 0/? [00:00<?, ?it/s]"
      ]
     },
     "metadata": {},
     "output_type": "display_data"
    },
    {
     "data": {
      "application/vnd.jupyter.widget-view+json": {
       "model_id": "2f53b35f48a745b79e71d75eb35a8799",
       "version_major": 2,
       "version_minor": 0
      },
      "text/plain": [
       "Validation: |          | 0/? [00:00<?, ?it/s]"
      ]
     },
     "metadata": {},
     "output_type": "display_data"
    },
    {
     "data": {
      "application/vnd.jupyter.widget-view+json": {
       "model_id": "81f3626b5bba4e679b4bca684a47a95b",
       "version_major": 2,
       "version_minor": 0
      },
      "text/plain": [
       "Validation: |          | 0/? [00:00<?, ?it/s]"
      ]
     },
     "metadata": {},
     "output_type": "display_data"
    },
    {
     "data": {
      "application/vnd.jupyter.widget-view+json": {
       "model_id": "f54d07b73e5f4fb48829170213ff08be",
       "version_major": 2,
       "version_minor": 0
      },
      "text/plain": [
       "Validation: |          | 0/? [00:00<?, ?it/s]"
      ]
     },
     "metadata": {},
     "output_type": "display_data"
    },
    {
     "name": "stderr",
     "output_type": "stream",
     "text": [
      "`Trainer.fit` stopped: `max_steps=480` reached.\n",
      "GPU available: False, used: False\n",
      "TPU available: False, using: 0 TPU cores\n",
      "HPU available: False, using: 0 HPUs\n"
     ]
    },
    {
     "data": {
      "application/vnd.jupyter.widget-view+json": {
       "model_id": "372635120d264724811ebe7aa2dfdae0",
       "version_major": 2,
       "version_minor": 0
      },
      "text/plain": [
       "Predicting: |          | 0/? [00:00<?, ?it/s]"
      ]
     },
     "metadata": {},
     "output_type": "display_data"
    },
    {
     "name": "stderr",
     "output_type": "stream",
     "text": [
      "Seed set to 1\n",
      "GPU available: False, used: False\n",
      "TPU available: False, using: 0 TPU cores\n",
      "HPU available: False, using: 0 HPUs\n"
     ]
    },
    {
     "name": "stdout",
     "output_type": "stream",
     "text": [
      "Hình dạng dự báo: (240, 10)\n",
      "MAE: 24.3339 | Tham số: {'input_size': 55, 'max_steps': 480, 'encoder_n_layers': 2, 'batch_size': 64, 'decoder_layers': 1, 'learning_rate': 2.051110418843398e-05}\n",
      "Hình dạng dữ liệu đầu vào: (2556, 3)\n"
     ]
    },
    {
     "name": "stderr",
     "output_type": "stream",
     "text": [
      "\n",
      "  | Name         | Type             | Params | Mode \n",
      "----------------------------------------------------------\n",
      "0 | loss         | DistributionLoss | 5      | train\n",
      "1 | padder_train | ConstantPad1d    | 0      | train\n",
      "2 | scaler       | TemporalNorm     | 0      | train\n",
      "3 | hist_encoder | LSTM             | 6.1 K  | train\n",
      "----------------------------------------------------------\n",
      "6.1 K     Trainable params\n",
      "5         Non-trainable params\n",
      "6.1 K     Total params\n",
      "0.025     Total estimated model params size (MB)\n",
      "4         Modules in train mode\n",
      "0         Modules in eval mode\n"
     ]
    },
    {
     "data": {
      "application/vnd.jupyter.widget-view+json": {
       "model_id": "3722d2ed8a664edfa430045424324101",
       "version_major": 2,
       "version_minor": 0
      },
      "text/plain": [
       "Sanity Checking: |          | 0/? [00:00<?, ?it/s]"
      ]
     },
     "metadata": {},
     "output_type": "display_data"
    },
    {
     "data": {
      "application/vnd.jupyter.widget-view+json": {
       "model_id": "73d7ed0b45824b8fb9cb6fa26a87d233",
       "version_major": 2,
       "version_minor": 0
      },
      "text/plain": [
       "Training: |          | 0/? [00:00<?, ?it/s]"
      ]
     },
     "metadata": {},
     "output_type": "display_data"
    },
    {
     "data": {
      "application/vnd.jupyter.widget-view+json": {
       "model_id": "972f3f16839a459288d49c02ca6e6f1e",
       "version_major": 2,
       "version_minor": 0
      },
      "text/plain": [
       "Validation: |          | 0/? [00:00<?, ?it/s]"
      ]
     },
     "metadata": {},
     "output_type": "display_data"
    },
    {
     "data": {
      "application/vnd.jupyter.widget-view+json": {
       "model_id": "80974111186c47d385adb9ed368d5c2e",
       "version_major": 2,
       "version_minor": 0
      },
      "text/plain": [
       "Validation: |          | 0/? [00:00<?, ?it/s]"
      ]
     },
     "metadata": {},
     "output_type": "display_data"
    },
    {
     "data": {
      "application/vnd.jupyter.widget-view+json": {
       "model_id": "d18abf2ed99e40f9a49e2b688e760bcc",
       "version_major": 2,
       "version_minor": 0
      },
      "text/plain": [
       "Validation: |          | 0/? [00:00<?, ?it/s]"
      ]
     },
     "metadata": {},
     "output_type": "display_data"
    },
    {
     "data": {
      "application/vnd.jupyter.widget-view+json": {
       "model_id": "23f2ba5721234951b378fc8cb50dbac1",
       "version_major": 2,
       "version_minor": 0
      },
      "text/plain": [
       "Validation: |          | 0/? [00:00<?, ?it/s]"
      ]
     },
     "metadata": {},
     "output_type": "display_data"
    },
    {
     "name": "stderr",
     "output_type": "stream",
     "text": [
      "`Trainer.fit` stopped: `max_steps=446` reached.\n",
      "GPU available: False, used: False\n",
      "TPU available: False, using: 0 TPU cores\n",
      "HPU available: False, using: 0 HPUs\n"
     ]
    },
    {
     "data": {
      "application/vnd.jupyter.widget-view+json": {
       "model_id": "8496e5234a8c4e0ca58c9ff1a1722db0",
       "version_major": 2,
       "version_minor": 0
      },
      "text/plain": [
       "Predicting: |          | 0/? [00:00<?, ?it/s]"
      ]
     },
     "metadata": {},
     "output_type": "display_data"
    },
    {
     "name": "stderr",
     "output_type": "stream",
     "text": [
      "Seed set to 1\n",
      "GPU available: False, used: False\n",
      "TPU available: False, using: 0 TPU cores\n",
      "HPU available: False, using: 0 HPUs\n"
     ]
    },
    {
     "name": "stdout",
     "output_type": "stream",
     "text": [
      "Hình dạng dự báo: (240, 10)\n",
      "MAE: 25.4114 | Tham số: {'input_size': 42, 'max_steps': 446, 'encoder_n_layers': 2, 'batch_size': 64, 'decoder_layers': 1, 'learning_rate': 0.0008706020878304863}\n",
      "Hình dạng dữ liệu đầu vào: (2556, 3)\n"
     ]
    },
    {
     "name": "stderr",
     "output_type": "stream",
     "text": [
      "\n",
      "  | Name         | Type             | Params | Mode \n",
      "----------------------------------------------------------\n",
      "0 | loss         | DistributionLoss | 5      | train\n",
      "1 | padder_train | ConstantPad1d    | 0      | train\n",
      "2 | scaler       | TemporalNorm     | 0      | train\n",
      "3 | hist_encoder | LSTM             | 2.8 K  | train\n",
      "----------------------------------------------------------\n",
      "2.8 K     Trainable params\n",
      "5         Non-trainable params\n",
      "2.8 K     Total params\n",
      "0.011     Total estimated model params size (MB)\n",
      "4         Modules in train mode\n",
      "0         Modules in eval mode\n"
     ]
    },
    {
     "data": {
      "application/vnd.jupyter.widget-view+json": {
       "model_id": "b08b5caa74a3472398d31c22024026fe",
       "version_major": 2,
       "version_minor": 0
      },
      "text/plain": [
       "Sanity Checking: |          | 0/? [00:00<?, ?it/s]"
      ]
     },
     "metadata": {},
     "output_type": "display_data"
    },
    {
     "data": {
      "application/vnd.jupyter.widget-view+json": {
       "model_id": "6feb85f9b0f640cfa7fb438eddcd6b59",
       "version_major": 2,
       "version_minor": 0
      },
      "text/plain": [
       "Training: |          | 0/? [00:00<?, ?it/s]"
      ]
     },
     "metadata": {},
     "output_type": "display_data"
    },
    {
     "data": {
      "application/vnd.jupyter.widget-view+json": {
       "model_id": "43a36902bfd44710955f5d2a84b7025c",
       "version_major": 2,
       "version_minor": 0
      },
      "text/plain": [
       "Validation: |          | 0/? [00:00<?, ?it/s]"
      ]
     },
     "metadata": {},
     "output_type": "display_data"
    },
    {
     "name": "stderr",
     "output_type": "stream",
     "text": [
      "`Trainer.fit` stopped: `max_steps=185` reached.\n",
      "GPU available: False, used: False\n",
      "TPU available: False, using: 0 TPU cores\n",
      "HPU available: False, using: 0 HPUs\n"
     ]
    },
    {
     "data": {
      "application/vnd.jupyter.widget-view+json": {
       "model_id": "5e8287a68b034ca8b5c492c159201ccc",
       "version_major": 2,
       "version_minor": 0
      },
      "text/plain": [
       "Predicting: |          | 0/? [00:00<?, ?it/s]"
      ]
     },
     "metadata": {},
     "output_type": "display_data"
    },
    {
     "name": "stderr",
     "output_type": "stream",
     "text": [
      "Seed set to 1\n",
      "GPU available: False, used: False\n",
      "TPU available: False, using: 0 TPU cores\n",
      "HPU available: False, using: 0 HPUs\n"
     ]
    },
    {
     "name": "stdout",
     "output_type": "stream",
     "text": [
      "Hình dạng dự báo: (240, 10)\n",
      "MAE: 24.4587 | Tham số: {'input_size': 73, 'max_steps': 185, 'encoder_n_layers': 1, 'batch_size': 32, 'decoder_layers': 2, 'learning_rate': 0.00011207606211860571}\n",
      "Hình dạng dữ liệu đầu vào: (2556, 3)\n"
     ]
    },
    {
     "name": "stderr",
     "output_type": "stream",
     "text": [
      "\n",
      "  | Name         | Type             | Params | Mode \n",
      "----------------------------------------------------------\n",
      "0 | loss         | DistributionLoss | 5      | train\n",
      "1 | padder_train | ConstantPad1d    | 0      | train\n",
      "2 | scaler       | TemporalNorm     | 0      | train\n",
      "3 | hist_encoder | LSTM             | 6.1 K  | train\n",
      "----------------------------------------------------------\n",
      "6.1 K     Trainable params\n",
      "5         Non-trainable params\n",
      "6.1 K     Total params\n",
      "0.025     Total estimated model params size (MB)\n",
      "4         Modules in train mode\n",
      "0         Modules in eval mode\n"
     ]
    },
    {
     "data": {
      "application/vnd.jupyter.widget-view+json": {
       "model_id": "177d26be78f741468b1ab348d9cc5123",
       "version_major": 2,
       "version_minor": 0
      },
      "text/plain": [
       "Sanity Checking: |          | 0/? [00:00<?, ?it/s]"
      ]
     },
     "metadata": {},
     "output_type": "display_data"
    },
    {
     "data": {
      "application/vnd.jupyter.widget-view+json": {
       "model_id": "7c14f487c8274ab09386204304c289b7",
       "version_major": 2,
       "version_minor": 0
      },
      "text/plain": [
       "Training: |          | 0/? [00:00<?, ?it/s]"
      ]
     },
     "metadata": {},
     "output_type": "display_data"
    },
    {
     "data": {
      "application/vnd.jupyter.widget-view+json": {
       "model_id": "ce82f4cc67a8425ca1b96beb362f9f50",
       "version_major": 2,
       "version_minor": 0
      },
      "text/plain": [
       "Validation: |          | 0/? [00:00<?, ?it/s]"
      ]
     },
     "metadata": {},
     "output_type": "display_data"
    },
    {
     "data": {
      "application/vnd.jupyter.widget-view+json": {
       "model_id": "4b891bb3a3d04d639b18a4cdd6b42c06",
       "version_major": 2,
       "version_minor": 0
      },
      "text/plain": [
       "Validation: |          | 0/? [00:00<?, ?it/s]"
      ]
     },
     "metadata": {},
     "output_type": "display_data"
    },
    {
     "name": "stderr",
     "output_type": "stream",
     "text": [
      "`Trainer.fit` stopped: `max_steps=216` reached.\n",
      "GPU available: False, used: False\n",
      "TPU available: False, using: 0 TPU cores\n",
      "HPU available: False, using: 0 HPUs\n"
     ]
    },
    {
     "data": {
      "application/vnd.jupyter.widget-view+json": {
       "model_id": "1646a291740a4d7d9aeef6ab72e9067e",
       "version_major": 2,
       "version_minor": 0
      },
      "text/plain": [
       "Predicting: |          | 0/? [00:00<?, ?it/s]"
      ]
     },
     "metadata": {},
     "output_type": "display_data"
    },
    {
     "name": "stderr",
     "output_type": "stream",
     "text": [
      "Seed set to 1\n",
      "GPU available: False, used: False\n",
      "TPU available: False, using: 0 TPU cores\n",
      "HPU available: False, using: 0 HPUs\n"
     ]
    },
    {
     "name": "stdout",
     "output_type": "stream",
     "text": [
      "Hình dạng dự báo: (240, 10)\n",
      "MAE: 24.1825 | Tham số: {'input_size': 57, 'max_steps': 216, 'encoder_n_layers': 2, 'batch_size': 32, 'decoder_layers': 2, 'learning_rate': 5.404103854647327e-05}\n",
      "Hình dạng dữ liệu đầu vào: (2556, 3)\n"
     ]
    },
    {
     "name": "stderr",
     "output_type": "stream",
     "text": [
      "\n",
      "  | Name         | Type             | Params | Mode \n",
      "----------------------------------------------------------\n",
      "0 | loss         | DistributionLoss | 5      | train\n",
      "1 | padder_train | ConstantPad1d    | 0      | train\n",
      "2 | scaler       | TemporalNorm     | 0      | train\n",
      "3 | hist_encoder | LSTM             | 2.8 K  | train\n",
      "----------------------------------------------------------\n",
      "2.8 K     Trainable params\n",
      "5         Non-trainable params\n",
      "2.8 K     Total params\n",
      "0.011     Total estimated model params size (MB)\n",
      "4         Modules in train mode\n",
      "0         Modules in eval mode\n"
     ]
    },
    {
     "data": {
      "application/vnd.jupyter.widget-view+json": {
       "model_id": "308cc8789e294b98808583ecc7608076",
       "version_major": 2,
       "version_minor": 0
      },
      "text/plain": [
       "Sanity Checking: |          | 0/? [00:00<?, ?it/s]"
      ]
     },
     "metadata": {},
     "output_type": "display_data"
    },
    {
     "data": {
      "application/vnd.jupyter.widget-view+json": {
       "model_id": "551c571d306246d0aa47f4b246f7024f",
       "version_major": 2,
       "version_minor": 0
      },
      "text/plain": [
       "Training: |          | 0/? [00:00<?, ?it/s]"
      ]
     },
     "metadata": {},
     "output_type": "display_data"
    },
    {
     "data": {
      "application/vnd.jupyter.widget-view+json": {
       "model_id": "b7286f85ebf9456b8a97d0e19a7de743",
       "version_major": 2,
       "version_minor": 0
      },
      "text/plain": [
       "Validation: |          | 0/? [00:00<?, ?it/s]"
      ]
     },
     "metadata": {},
     "output_type": "display_data"
    },
    {
     "data": {
      "application/vnd.jupyter.widget-view+json": {
       "model_id": "986996831a234950bc732f59774ea700",
       "version_major": 2,
       "version_minor": 0
      },
      "text/plain": [
       "Validation: |          | 0/? [00:00<?, ?it/s]"
      ]
     },
     "metadata": {},
     "output_type": "display_data"
    },
    {
     "data": {
      "application/vnd.jupyter.widget-view+json": {
       "model_id": "2ccd49f8f03a4e70908ce6bb372e3909",
       "version_major": 2,
       "version_minor": 0
      },
      "text/plain": [
       "Validation: |          | 0/? [00:00<?, ?it/s]"
      ]
     },
     "metadata": {},
     "output_type": "display_data"
    },
    {
     "data": {
      "application/vnd.jupyter.widget-view+json": {
       "model_id": "87198cba9b6443fa931e9a464aef291f",
       "version_major": 2,
       "version_minor": 0
      },
      "text/plain": [
       "Validation: |          | 0/? [00:00<?, ?it/s]"
      ]
     },
     "metadata": {},
     "output_type": "display_data"
    },
    {
     "name": "stderr",
     "output_type": "stream",
     "text": [
      "`Trainer.fit` stopped: `max_steps=414` reached.\n",
      "GPU available: False, used: False\n",
      "TPU available: False, using: 0 TPU cores\n",
      "HPU available: False, using: 0 HPUs\n"
     ]
    },
    {
     "data": {
      "application/vnd.jupyter.widget-view+json": {
       "model_id": "9c8e9f6babdb4908933a9db43bdfce86",
       "version_major": 2,
       "version_minor": 0
      },
      "text/plain": [
       "Predicting: |          | 0/? [00:00<?, ?it/s]"
      ]
     },
     "metadata": {},
     "output_type": "display_data"
    },
    {
     "name": "stderr",
     "output_type": "stream",
     "text": [
      "Seed set to 1\n",
      "GPU available: False, used: False\n",
      "TPU available: False, using: 0 TPU cores\n",
      "HPU available: False, using: 0 HPUs\n"
     ]
    },
    {
     "name": "stdout",
     "output_type": "stream",
     "text": [
      "Hình dạng dự báo: (240, 10)\n",
      "MAE: 24.1191 | Tham số: {'input_size': 58, 'max_steps': 414, 'encoder_n_layers': 1, 'batch_size': 64, 'decoder_layers': 2, 'learning_rate': 1.2385137298860936e-05}\n",
      "Điểm tốt nhất mới: 24.1191 tại vòng lặp 5\n",
      "Hình dạng dữ liệu đầu vào: (2556, 3)\n"
     ]
    },
    {
     "name": "stderr",
     "output_type": "stream",
     "text": [
      "\n",
      "  | Name         | Type             | Params | Mode \n",
      "----------------------------------------------------------\n",
      "0 | loss         | DistributionLoss | 5      | train\n",
      "1 | padder_train | ConstantPad1d    | 0      | train\n",
      "2 | scaler       | TemporalNorm     | 0      | train\n",
      "3 | hist_encoder | LSTM             | 2.8 K  | train\n",
      "----------------------------------------------------------\n",
      "2.8 K     Trainable params\n",
      "5         Non-trainable params\n",
      "2.8 K     Total params\n",
      "0.011     Total estimated model params size (MB)\n",
      "4         Modules in train mode\n",
      "0         Modules in eval mode\n"
     ]
    },
    {
     "data": {
      "application/vnd.jupyter.widget-view+json": {
       "model_id": "3a802c25b38645f58dfabcca4be5f063",
       "version_major": 2,
       "version_minor": 0
      },
      "text/plain": [
       "Sanity Checking: |          | 0/? [00:00<?, ?it/s]"
      ]
     },
     "metadata": {},
     "output_type": "display_data"
    },
    {
     "data": {
      "application/vnd.jupyter.widget-view+json": {
       "model_id": "c2e511f4d9244d50ac1ed348d08ea9e4",
       "version_major": 2,
       "version_minor": 0
      },
      "text/plain": [
       "Training: |          | 0/? [00:00<?, ?it/s]"
      ]
     },
     "metadata": {},
     "output_type": "display_data"
    },
    {
     "data": {
      "application/vnd.jupyter.widget-view+json": {
       "model_id": "4f035833b1f844b4a0d1f5923ab21c2c",
       "version_major": 2,
       "version_minor": 0
      },
      "text/plain": [
       "Validation: |          | 0/? [00:00<?, ?it/s]"
      ]
     },
     "metadata": {},
     "output_type": "display_data"
    },
    {
     "name": "stderr",
     "output_type": "stream",
     "text": [
      "`Trainer.fit` stopped: `max_steps=168` reached.\n",
      "GPU available: False, used: False\n",
      "TPU available: False, using: 0 TPU cores\n",
      "HPU available: False, using: 0 HPUs\n"
     ]
    },
    {
     "data": {
      "application/vnd.jupyter.widget-view+json": {
       "model_id": "8b2201ae79884d98877afb85f8d046f6",
       "version_major": 2,
       "version_minor": 0
      },
      "text/plain": [
       "Predicting: |          | 0/? [00:00<?, ?it/s]"
      ]
     },
     "metadata": {},
     "output_type": "display_data"
    },
    {
     "name": "stderr",
     "output_type": "stream",
     "text": [
      "Seed set to 1\n",
      "GPU available: False, used: False\n",
      "TPU available: False, using: 0 TPU cores\n",
      "HPU available: False, using: 0 HPUs\n"
     ]
    },
    {
     "name": "stdout",
     "output_type": "stream",
     "text": [
      "Hình dạng dự báo: (240, 10)\n",
      "MAE: 25.1417 | Tham số: {'input_size': 64, 'max_steps': 168, 'encoder_n_layers': 1, 'batch_size': 64, 'decoder_layers': 3, 'learning_rate': 0.0004138040112561016}\n",
      "Hình dạng dữ liệu đầu vào: (2556, 3)\n"
     ]
    },
    {
     "name": "stderr",
     "output_type": "stream",
     "text": [
      "\n",
      "  | Name         | Type             | Params | Mode \n",
      "----------------------------------------------------------\n",
      "0 | loss         | DistributionLoss | 5      | train\n",
      "1 | padder_train | ConstantPad1d    | 0      | train\n",
      "2 | scaler       | TemporalNorm     | 0      | train\n",
      "3 | hist_encoder | LSTM             | 6.1 K  | train\n",
      "----------------------------------------------------------\n",
      "6.1 K     Trainable params\n",
      "5         Non-trainable params\n",
      "6.1 K     Total params\n",
      "0.025     Total estimated model params size (MB)\n",
      "4         Modules in train mode\n",
      "0         Modules in eval mode\n"
     ]
    },
    {
     "data": {
      "application/vnd.jupyter.widget-view+json": {
       "model_id": "0640916ba62d456ab918ce4ec9c4b143",
       "version_major": 2,
       "version_minor": 0
      },
      "text/plain": [
       "Sanity Checking: |          | 0/? [00:00<?, ?it/s]"
      ]
     },
     "metadata": {},
     "output_type": "display_data"
    },
    {
     "data": {
      "application/vnd.jupyter.widget-view+json": {
       "model_id": "612e307fe0c348b88179c131157b9aa4",
       "version_major": 2,
       "version_minor": 0
      },
      "text/plain": [
       "Training: |          | 0/? [00:00<?, ?it/s]"
      ]
     },
     "metadata": {},
     "output_type": "display_data"
    },
    {
     "data": {
      "application/vnd.jupyter.widget-view+json": {
       "model_id": "635f32cd72a94fc082b4988ef476471c",
       "version_major": 2,
       "version_minor": 0
      },
      "text/plain": [
       "Validation: |          | 0/? [00:00<?, ?it/s]"
      ]
     },
     "metadata": {},
     "output_type": "display_data"
    },
    {
     "name": "stderr",
     "output_type": "stream",
     "text": [
      "`Trainer.fit` stopped: `max_steps=139` reached.\n",
      "GPU available: False, used: False\n",
      "TPU available: False, using: 0 TPU cores\n",
      "HPU available: False, using: 0 HPUs\n"
     ]
    },
    {
     "data": {
      "application/vnd.jupyter.widget-view+json": {
       "model_id": "9bb7ac5363e048f2b50890dba4185068",
       "version_major": 2,
       "version_minor": 0
      },
      "text/plain": [
       "Predicting: |          | 0/? [00:00<?, ?it/s]"
      ]
     },
     "metadata": {},
     "output_type": "display_data"
    },
    {
     "name": "stderr",
     "output_type": "stream",
     "text": [
      "Seed set to 1\n",
      "GPU available: False, used: False\n",
      "TPU available: False, using: 0 TPU cores\n",
      "HPU available: False, using: 0 HPUs\n"
     ]
    },
    {
     "name": "stdout",
     "output_type": "stream",
     "text": [
      "Hình dạng dự báo: (240, 10)\n",
      "MAE: 24.6098 | Tham số: {'input_size': 52, 'max_steps': 139, 'encoder_n_layers': 2, 'batch_size': 32, 'decoder_layers': 1, 'learning_rate': 9.780337016659404e-05}\n",
      "Hình dạng dữ liệu đầu vào: (2556, 3)\n"
     ]
    },
    {
     "name": "stderr",
     "output_type": "stream",
     "text": [
      "\n",
      "  | Name         | Type             | Params | Mode \n",
      "----------------------------------------------------------\n",
      "0 | loss         | DistributionLoss | 5      | train\n",
      "1 | padder_train | ConstantPad1d    | 0      | train\n",
      "2 | scaler       | TemporalNorm     | 0      | train\n",
      "3 | hist_encoder | LSTM             | 6.1 K  | train\n",
      "----------------------------------------------------------\n",
      "6.1 K     Trainable params\n",
      "5         Non-trainable params\n",
      "6.1 K     Total params\n",
      "0.025     Total estimated model params size (MB)\n",
      "4         Modules in train mode\n",
      "0         Modules in eval mode\n"
     ]
    },
    {
     "data": {
      "application/vnd.jupyter.widget-view+json": {
       "model_id": "aae83ba33a324677bf1b1d53fbf45b8b",
       "version_major": 2,
       "version_minor": 0
      },
      "text/plain": [
       "Sanity Checking: |          | 0/? [00:00<?, ?it/s]"
      ]
     },
     "metadata": {},
     "output_type": "display_data"
    },
    {
     "data": {
      "application/vnd.jupyter.widget-view+json": {
       "model_id": "ba300ab05d60464e92666797b8c33dd0",
       "version_major": 2,
       "version_minor": 0
      },
      "text/plain": [
       "Training: |          | 0/? [00:00<?, ?it/s]"
      ]
     },
     "metadata": {},
     "output_type": "display_data"
    },
    {
     "data": {
      "application/vnd.jupyter.widget-view+json": {
       "model_id": "e332cee92b474367a82b4a424906b9da",
       "version_major": 2,
       "version_minor": 0
      },
      "text/plain": [
       "Validation: |          | 0/? [00:00<?, ?it/s]"
      ]
     },
     "metadata": {},
     "output_type": "display_data"
    },
    {
     "data": {
      "application/vnd.jupyter.widget-view+json": {
       "model_id": "b5992998f2484752982e22d2ff6c45f5",
       "version_major": 2,
       "version_minor": 0
      },
      "text/plain": [
       "Validation: |          | 0/? [00:00<?, ?it/s]"
      ]
     },
     "metadata": {},
     "output_type": "display_data"
    },
    {
     "data": {
      "application/vnd.jupyter.widget-view+json": {
       "model_id": "59488506d4a24bdd935c071a0e2e0259",
       "version_major": 2,
       "version_minor": 0
      },
      "text/plain": [
       "Validation: |          | 0/? [00:00<?, ?it/s]"
      ]
     },
     "metadata": {},
     "output_type": "display_data"
    },
    {
     "data": {
      "application/vnd.jupyter.widget-view+json": {
       "model_id": "dbe57f3559fc41b8b67993bfd300cb3a",
       "version_major": 2,
       "version_minor": 0
      },
      "text/plain": [
       "Validation: |          | 0/? [00:00<?, ?it/s]"
      ]
     },
     "metadata": {},
     "output_type": "display_data"
    },
    {
     "name": "stderr",
     "output_type": "stream",
     "text": [
      "`Trainer.fit` stopped: `max_steps=464` reached.\n",
      "GPU available: False, used: False\n",
      "TPU available: False, using: 0 TPU cores\n",
      "HPU available: False, using: 0 HPUs\n"
     ]
    },
    {
     "data": {
      "application/vnd.jupyter.widget-view+json": {
       "model_id": "bd9f08e2294f4fb59991d927fe936c66",
       "version_major": 2,
       "version_minor": 0
      },
      "text/plain": [
       "Predicting: |          | 0/? [00:00<?, ?it/s]"
      ]
     },
     "metadata": {},
     "output_type": "display_data"
    },
    {
     "name": "stderr",
     "output_type": "stream",
     "text": [
      "Seed set to 1\n",
      "GPU available: False, used: False\n",
      "TPU available: False, using: 0 TPU cores\n",
      "HPU available: False, using: 0 HPUs\n"
     ]
    },
    {
     "name": "stdout",
     "output_type": "stream",
     "text": [
      "Hình dạng dự báo: (240, 10)\n",
      "MAE: 23.6737 | Tham số: {'input_size': 41, 'max_steps': 464, 'encoder_n_layers': 2, 'batch_size': 64, 'decoder_layers': 2, 'learning_rate': 0.00010968217207529519}\n",
      "Điểm tốt nhất mới: 23.6737 tại vòng lặp 8\n",
      "Hình dạng dữ liệu đầu vào: (2556, 3)\n"
     ]
    },
    {
     "name": "stderr",
     "output_type": "stream",
     "text": [
      "\n",
      "  | Name         | Type             | Params | Mode \n",
      "----------------------------------------------------------\n",
      "0 | loss         | DistributionLoss | 5      | train\n",
      "1 | padder_train | ConstantPad1d    | 0      | train\n",
      "2 | scaler       | TemporalNorm     | 0      | train\n",
      "3 | hist_encoder | LSTM             | 9.5 K  | train\n",
      "----------------------------------------------------------\n",
      "9.5 K     Trainable params\n",
      "5         Non-trainable params\n",
      "9.5 K     Total params\n",
      "0.038     Total estimated model params size (MB)\n",
      "4         Modules in train mode\n",
      "0         Modules in eval mode\n"
     ]
    },
    {
     "data": {
      "application/vnd.jupyter.widget-view+json": {
       "model_id": "902f2b9b39814031923a27fa52336a49",
       "version_major": 2,
       "version_minor": 0
      },
      "text/plain": [
       "Sanity Checking: |          | 0/? [00:00<?, ?it/s]"
      ]
     },
     "metadata": {},
     "output_type": "display_data"
    },
    {
     "data": {
      "application/vnd.jupyter.widget-view+json": {
       "model_id": "9cd46f84c6834becaf4538278a1ad538",
       "version_major": 2,
       "version_minor": 0
      },
      "text/plain": [
       "Training: |          | 0/? [00:00<?, ?it/s]"
      ]
     },
     "metadata": {},
     "output_type": "display_data"
    },
    {
     "data": {
      "application/vnd.jupyter.widget-view+json": {
       "model_id": "aada12a5d2434d179852192fa7682cf8",
       "version_major": 2,
       "version_minor": 0
      },
      "text/plain": [
       "Validation: |          | 0/? [00:00<?, ?it/s]"
      ]
     },
     "metadata": {},
     "output_type": "display_data"
    },
    {
     "name": "stderr",
     "output_type": "stream",
     "text": [
      "`Trainer.fit` stopped: `max_steps=174` reached.\n",
      "GPU available: False, used: False\n",
      "TPU available: False, using: 0 TPU cores\n",
      "HPU available: False, using: 0 HPUs\n"
     ]
    },
    {
     "data": {
      "application/vnd.jupyter.widget-view+json": {
       "model_id": "b77ac6f0155845b5ba56f3cac473b141",
       "version_major": 2,
       "version_minor": 0
      },
      "text/plain": [
       "Predicting: |          | 0/? [00:00<?, ?it/s]"
      ]
     },
     "metadata": {},
     "output_type": "display_data"
    },
    {
     "name": "stderr",
     "output_type": "stream",
     "text": [
      "Seed set to 1\n",
      "GPU available: False, used: False\n",
      "TPU available: False, using: 0 TPU cores\n",
      "HPU available: False, using: 0 HPUs\n"
     ]
    },
    {
     "name": "stdout",
     "output_type": "stream",
     "text": [
      "Hình dạng dự báo: (240, 10)\n",
      "MAE: 24.4130 | Tham số: {'input_size': 62, 'max_steps': 174, 'encoder_n_layers': 3, 'batch_size': 64, 'decoder_layers': 3, 'learning_rate': 0.0006161049539380967}\n",
      "Hình dạng dữ liệu đầu vào: (2556, 3)\n"
     ]
    },
    {
     "name": "stderr",
     "output_type": "stream",
     "text": [
      "\n",
      "  | Name         | Type             | Params | Mode \n",
      "----------------------------------------------------------\n",
      "0 | loss         | DistributionLoss | 5      | train\n",
      "1 | padder_train | ConstantPad1d    | 0      | train\n",
      "2 | scaler       | TemporalNorm     | 0      | train\n",
      "3 | hist_encoder | LSTM             | 2.8 K  | train\n",
      "----------------------------------------------------------\n",
      "2.8 K     Trainable params\n",
      "5         Non-trainable params\n",
      "2.8 K     Total params\n",
      "0.011     Total estimated model params size (MB)\n",
      "4         Modules in train mode\n",
      "0         Modules in eval mode\n"
     ]
    },
    {
     "data": {
      "application/vnd.jupyter.widget-view+json": {
       "model_id": "5509640d1ea74ac098d70f24f8d1060c",
       "version_major": 2,
       "version_minor": 0
      },
      "text/plain": [
       "Sanity Checking: |          | 0/? [00:00<?, ?it/s]"
      ]
     },
     "metadata": {},
     "output_type": "display_data"
    },
    {
     "data": {
      "application/vnd.jupyter.widget-view+json": {
       "model_id": "778e8d69ba06441aa46d45d4ee146a53",
       "version_major": 2,
       "version_minor": 0
      },
      "text/plain": [
       "Training: |          | 0/? [00:00<?, ?it/s]"
      ]
     },
     "metadata": {},
     "output_type": "display_data"
    },
    {
     "data": {
      "application/vnd.jupyter.widget-view+json": {
       "model_id": "93506bd229f4498fbd4e855277cb92fd",
       "version_major": 2,
       "version_minor": 0
      },
      "text/plain": [
       "Validation: |          | 0/? [00:00<?, ?it/s]"
      ]
     },
     "metadata": {},
     "output_type": "display_data"
    },
    {
     "data": {
      "application/vnd.jupyter.widget-view+json": {
       "model_id": "95859edb1f864fce85f49b7456b7c377",
       "version_major": 2,
       "version_minor": 0
      },
      "text/plain": [
       "Validation: |          | 0/? [00:00<?, ?it/s]"
      ]
     },
     "metadata": {},
     "output_type": "display_data"
    },
    {
     "data": {
      "application/vnd.jupyter.widget-view+json": {
       "model_id": "36670e05dde948b4a355e795e2fbb387",
       "version_major": 2,
       "version_minor": 0
      },
      "text/plain": [
       "Validation: |          | 0/? [00:00<?, ?it/s]"
      ]
     },
     "metadata": {},
     "output_type": "display_data"
    },
    {
     "data": {
      "application/vnd.jupyter.widget-view+json": {
       "model_id": "7db6a4903324415195eefc8803b7ee5c",
       "version_major": 2,
       "version_minor": 0
      },
      "text/plain": [
       "Validation: |          | 0/? [00:00<?, ?it/s]"
      ]
     },
     "metadata": {},
     "output_type": "display_data"
    },
    {
     "name": "stderr",
     "output_type": "stream",
     "text": [
      "`Trainer.fit` stopped: `max_steps=469` reached.\n",
      "GPU available: False, used: False\n",
      "TPU available: False, using: 0 TPU cores\n",
      "HPU available: False, using: 0 HPUs\n"
     ]
    },
    {
     "data": {
      "application/vnd.jupyter.widget-view+json": {
       "model_id": "1f323197349a4c76b21449022c56c3f7",
       "version_major": 2,
       "version_minor": 0
      },
      "text/plain": [
       "Predicting: |          | 0/? [00:00<?, ?it/s]"
      ]
     },
     "metadata": {},
     "output_type": "display_data"
    },
    {
     "name": "stdout",
     "output_type": "stream",
     "text": [
      "Hình dạng dự báo: (240, 10)\n",
      "MAE: 23.9820 | Tham số: {'input_size': 64, 'max_steps': 469, 'encoder_n_layers': 1, 'batch_size': 32, 'decoder_layers': 1, 'learning_rate': 4.4736361746212656e-05}\n"
     ]
    },
    {
     "name": "stderr",
     "output_type": "stream",
     "text": [
      "Seed set to 1\n",
      "GPU available: False, used: False\n",
      "TPU available: False, using: 0 TPU cores\n",
      "HPU available: False, using: 0 HPUs\n"
     ]
    },
    {
     "name": "stdout",
     "output_type": "stream",
     "text": [
      "Hình dạng dữ liệu đầu vào: (2556, 3)\n"
     ]
    },
    {
     "name": "stderr",
     "output_type": "stream",
     "text": [
      "\n",
      "  | Name         | Type             | Params | Mode \n",
      "----------------------------------------------------------\n",
      "0 | loss         | DistributionLoss | 5      | train\n",
      "1 | padder_train | ConstantPad1d    | 0      | train\n",
      "2 | scaler       | TemporalNorm     | 0      | train\n",
      "3 | hist_encoder | LSTM             | 6.1 K  | train\n",
      "----------------------------------------------------------\n",
      "6.1 K     Trainable params\n",
      "5         Non-trainable params\n",
      "6.1 K     Total params\n",
      "0.025     Total estimated model params size (MB)\n",
      "4         Modules in train mode\n",
      "0         Modules in eval mode\n"
     ]
    },
    {
     "data": {
      "application/vnd.jupyter.widget-view+json": {
       "model_id": "cb27ee3ac32c4474b5afd82c68ba1bfa",
       "version_major": 2,
       "version_minor": 0
      },
      "text/plain": [
       "Sanity Checking: |          | 0/? [00:00<?, ?it/s]"
      ]
     },
     "metadata": {},
     "output_type": "display_data"
    },
    {
     "name": "stdout",
     "output_type": "stream",
     "text": [
      "Lỗi trong hàm mục tiêu: batch_size should be a positive integer value, but got batch_size=64\n"
     ]
    },
    {
     "name": "stderr",
     "output_type": "stream",
     "text": [
      "Seed set to 1\n",
      "GPU available: False, used: False\n",
      "TPU available: False, using: 0 TPU cores\n",
      "HPU available: False, using: 0 HPUs\n"
     ]
    },
    {
     "name": "stdout",
     "output_type": "stream",
     "text": [
      "Hình dạng dữ liệu đầu vào: (2556, 3)\n"
     ]
    },
    {
     "name": "stderr",
     "output_type": "stream",
     "text": [
      "\n",
      "  | Name         | Type             | Params | Mode \n",
      "----------------------------------------------------------\n",
      "0 | loss         | DistributionLoss | 5      | train\n",
      "1 | padder_train | ConstantPad1d    | 0      | train\n",
      "2 | scaler       | TemporalNorm     | 0      | train\n",
      "3 | hist_encoder | LSTM             | 2.8 K  | train\n",
      "----------------------------------------------------------\n",
      "2.8 K     Trainable params\n",
      "5         Non-trainable params\n",
      "2.8 K     Total params\n",
      "0.011     Total estimated model params size (MB)\n",
      "4         Modules in train mode\n",
      "0         Modules in eval mode\n"
     ]
    },
    {
     "data": {
      "application/vnd.jupyter.widget-view+json": {
       "model_id": "99c5b153ac1a47c2bd63fdf95a5e1854",
       "version_major": 2,
       "version_minor": 0
      },
      "text/plain": [
       "Sanity Checking: |          | 0/? [00:00<?, ?it/s]"
      ]
     },
     "metadata": {},
     "output_type": "display_data"
    },
    {
     "name": "stdout",
     "output_type": "stream",
     "text": [
      "Lỗi trong hàm mục tiêu: batch_size should be a positive integer value, but got batch_size=32\n"
     ]
    },
    {
     "name": "stderr",
     "output_type": "stream",
     "text": [
      "Seed set to 1\n",
      "GPU available: False, used: False\n",
      "TPU available: False, using: 0 TPU cores\n",
      "HPU available: False, using: 0 HPUs\n"
     ]
    },
    {
     "name": "stdout",
     "output_type": "stream",
     "text": [
      "Hình dạng dữ liệu đầu vào: (2556, 3)\n"
     ]
    },
    {
     "name": "stderr",
     "output_type": "stream",
     "text": [
      "\n",
      "  | Name         | Type             | Params | Mode \n",
      "----------------------------------------------------------\n",
      "0 | loss         | DistributionLoss | 5      | train\n",
      "1 | padder_train | ConstantPad1d    | 0      | train\n",
      "2 | scaler       | TemporalNorm     | 0      | train\n",
      "3 | hist_encoder | LSTM             | 9.5 K  | train\n",
      "----------------------------------------------------------\n",
      "9.5 K     Trainable params\n",
      "5         Non-trainable params\n",
      "9.5 K     Total params\n",
      "0.038     Total estimated model params size (MB)\n",
      "4         Modules in train mode\n",
      "0         Modules in eval mode\n"
     ]
    },
    {
     "data": {
      "application/vnd.jupyter.widget-view+json": {
       "model_id": "6a905dd1ce754be1a97dd1b142265282",
       "version_major": 2,
       "version_minor": 0
      },
      "text/plain": [
       "Sanity Checking: |          | 0/? [00:00<?, ?it/s]"
      ]
     },
     "metadata": {},
     "output_type": "display_data"
    },
    {
     "name": "stdout",
     "output_type": "stream",
     "text": [
      "Lỗi trong hàm mục tiêu: batch_size should be a positive integer value, but got batch_size=64\n"
     ]
    },
    {
     "name": "stderr",
     "output_type": "stream",
     "text": [
      "Seed set to 1\n",
      "GPU available: False, used: False\n",
      "TPU available: False, using: 0 TPU cores\n",
      "HPU available: False, using: 0 HPUs\n"
     ]
    },
    {
     "name": "stdout",
     "output_type": "stream",
     "text": [
      "Hình dạng dữ liệu đầu vào: (2556, 3)\n"
     ]
    },
    {
     "name": "stderr",
     "output_type": "stream",
     "text": [
      "\n",
      "  | Name         | Type             | Params | Mode \n",
      "----------------------------------------------------------\n",
      "0 | loss         | DistributionLoss | 5      | train\n",
      "1 | padder_train | ConstantPad1d    | 0      | train\n",
      "2 | scaler       | TemporalNorm     | 0      | train\n",
      "3 | hist_encoder | LSTM             | 9.5 K  | train\n",
      "----------------------------------------------------------\n",
      "9.5 K     Trainable params\n",
      "5         Non-trainable params\n",
      "9.5 K     Total params\n",
      "0.038     Total estimated model params size (MB)\n",
      "4         Modules in train mode\n",
      "0         Modules in eval mode\n"
     ]
    },
    {
     "data": {
      "application/vnd.jupyter.widget-view+json": {
       "model_id": "06bb4b8fd34941fb910b8163b852853e",
       "version_major": 2,
       "version_minor": 0
      },
      "text/plain": [
       "Sanity Checking: |          | 0/? [00:00<?, ?it/s]"
      ]
     },
     "metadata": {},
     "output_type": "display_data"
    },
    {
     "name": "stdout",
     "output_type": "stream",
     "text": [
      "Lỗi trong hàm mục tiêu: batch_size should be a positive integer value, but got batch_size=32\n"
     ]
    },
    {
     "name": "stderr",
     "output_type": "stream",
     "text": [
      "Seed set to 1\n",
      "GPU available: False, used: False\n",
      "TPU available: False, using: 0 TPU cores\n",
      "HPU available: False, using: 0 HPUs\n"
     ]
    },
    {
     "name": "stdout",
     "output_type": "stream",
     "text": [
      "Hình dạng dữ liệu đầu vào: (2556, 3)\n"
     ]
    },
    {
     "name": "stderr",
     "output_type": "stream",
     "text": [
      "\n",
      "  | Name         | Type             | Params | Mode \n",
      "----------------------------------------------------------\n",
      "0 | loss         | DistributionLoss | 5      | train\n",
      "1 | padder_train | ConstantPad1d    | 0      | train\n",
      "2 | scaler       | TemporalNorm     | 0      | train\n",
      "3 | hist_encoder | LSTM             | 9.5 K  | train\n",
      "----------------------------------------------------------\n",
      "9.5 K     Trainable params\n",
      "5         Non-trainable params\n",
      "9.5 K     Total params\n",
      "0.038     Total estimated model params size (MB)\n",
      "4         Modules in train mode\n",
      "0         Modules in eval mode\n"
     ]
    },
    {
     "data": {
      "application/vnd.jupyter.widget-view+json": {
       "model_id": "eb60175563124a65aff9170e63018f93",
       "version_major": 2,
       "version_minor": 0
      },
      "text/plain": [
       "Sanity Checking: |          | 0/? [00:00<?, ?it/s]"
      ]
     },
     "metadata": {},
     "output_type": "display_data"
    },
    {
     "name": "stdout",
     "output_type": "stream",
     "text": [
      "Lỗi trong hàm mục tiêu: batch_size should be a positive integer value, but got batch_size=64\n"
     ]
    },
    {
     "name": "stderr",
     "output_type": "stream",
     "text": [
      "Seed set to 1\n",
      "GPU available: False, used: False\n",
      "TPU available: False, using: 0 TPU cores\n",
      "HPU available: False, using: 0 HPUs\n"
     ]
    },
    {
     "name": "stdout",
     "output_type": "stream",
     "text": [
      "Hình dạng dữ liệu đầu vào: (2556, 3)\n"
     ]
    },
    {
     "name": "stderr",
     "output_type": "stream",
     "text": [
      "\n",
      "  | Name         | Type             | Params | Mode \n",
      "----------------------------------------------------------\n",
      "0 | loss         | DistributionLoss | 5      | train\n",
      "1 | padder_train | ConstantPad1d    | 0      | train\n",
      "2 | scaler       | TemporalNorm     | 0      | train\n",
      "3 | hist_encoder | LSTM             | 6.1 K  | train\n",
      "----------------------------------------------------------\n",
      "6.1 K     Trainable params\n",
      "5         Non-trainable params\n",
      "6.1 K     Total params\n",
      "0.025     Total estimated model params size (MB)\n",
      "4         Modules in train mode\n",
      "0         Modules in eval mode\n"
     ]
    },
    {
     "data": {
      "application/vnd.jupyter.widget-view+json": {
       "model_id": "fa5317551d9f4012a892757cf2a61209",
       "version_major": 2,
       "version_minor": 0
      },
      "text/plain": [
       "Sanity Checking: |          | 0/? [00:00<?, ?it/s]"
      ]
     },
     "metadata": {},
     "output_type": "display_data"
    },
    {
     "name": "stdout",
     "output_type": "stream",
     "text": [
      "Lỗi trong hàm mục tiêu: batch_size should be a positive integer value, but got batch_size=32\n"
     ]
    },
    {
     "name": "stderr",
     "output_type": "stream",
     "text": [
      "Seed set to 1\n",
      "GPU available: False, used: False\n",
      "TPU available: False, using: 0 TPU cores\n",
      "HPU available: False, using: 0 HPUs\n"
     ]
    },
    {
     "name": "stdout",
     "output_type": "stream",
     "text": [
      "Hình dạng dữ liệu đầu vào: (2556, 3)\n"
     ]
    },
    {
     "name": "stderr",
     "output_type": "stream",
     "text": [
      "\n",
      "  | Name         | Type             | Params | Mode \n",
      "----------------------------------------------------------\n",
      "0 | loss         | DistributionLoss | 5      | train\n",
      "1 | padder_train | ConstantPad1d    | 0      | train\n",
      "2 | scaler       | TemporalNorm     | 0      | train\n",
      "3 | hist_encoder | LSTM             | 6.1 K  | train\n",
      "----------------------------------------------------------\n",
      "6.1 K     Trainable params\n",
      "5         Non-trainable params\n",
      "6.1 K     Total params\n",
      "0.025     Total estimated model params size (MB)\n",
      "4         Modules in train mode\n",
      "0         Modules in eval mode\n"
     ]
    },
    {
     "data": {
      "application/vnd.jupyter.widget-view+json": {
       "model_id": "9ca8d782228144d2bf2d12c29efae6cc",
       "version_major": 2,
       "version_minor": 0
      },
      "text/plain": [
       "Sanity Checking: |          | 0/? [00:00<?, ?it/s]"
      ]
     },
     "metadata": {},
     "output_type": "display_data"
    },
    {
     "name": "stdout",
     "output_type": "stream",
     "text": [
      "Lỗi trong hàm mục tiêu: batch_size should be a positive integer value, but got batch_size=64\n"
     ]
    },
    {
     "name": "stderr",
     "output_type": "stream",
     "text": [
      "Seed set to 1\n",
      "GPU available: False, used: False\n",
      "TPU available: False, using: 0 TPU cores\n",
      "HPU available: False, using: 0 HPUs\n"
     ]
    },
    {
     "name": "stdout",
     "output_type": "stream",
     "text": [
      "Hình dạng dữ liệu đầu vào: (2556, 3)\n"
     ]
    },
    {
     "name": "stderr",
     "output_type": "stream",
     "text": [
      "\n",
      "  | Name         | Type             | Params | Mode \n",
      "----------------------------------------------------------\n",
      "0 | loss         | DistributionLoss | 5      | train\n",
      "1 | padder_train | ConstantPad1d    | 0      | train\n",
      "2 | scaler       | TemporalNorm     | 0      | train\n",
      "3 | hist_encoder | LSTM             | 9.5 K  | train\n",
      "----------------------------------------------------------\n",
      "9.5 K     Trainable params\n",
      "5         Non-trainable params\n",
      "9.5 K     Total params\n",
      "0.038     Total estimated model params size (MB)\n",
      "4         Modules in train mode\n",
      "0         Modules in eval mode\n"
     ]
    },
    {
     "data": {
      "application/vnd.jupyter.widget-view+json": {
       "model_id": "99d749532c564c36a1cfebe2554c352e",
       "version_major": 2,
       "version_minor": 0
      },
      "text/plain": [
       "Sanity Checking: |          | 0/? [00:00<?, ?it/s]"
      ]
     },
     "metadata": {},
     "output_type": "display_data"
    },
    {
     "name": "stdout",
     "output_type": "stream",
     "text": [
      "Lỗi trong hàm mục tiêu: batch_size should be a positive integer value, but got batch_size=32\n"
     ]
    },
    {
     "name": "stderr",
     "output_type": "stream",
     "text": [
      "Seed set to 1\n",
      "GPU available: False, used: False\n",
      "TPU available: False, using: 0 TPU cores\n",
      "HPU available: False, using: 0 HPUs\n"
     ]
    },
    {
     "name": "stdout",
     "output_type": "stream",
     "text": [
      "Hình dạng dữ liệu đầu vào: (2556, 3)\n"
     ]
    },
    {
     "name": "stderr",
     "output_type": "stream",
     "text": [
      "\n",
      "  | Name         | Type             | Params | Mode \n",
      "----------------------------------------------------------\n",
      "0 | loss         | DistributionLoss | 5      | train\n",
      "1 | padder_train | ConstantPad1d    | 0      | train\n",
      "2 | scaler       | TemporalNorm     | 0      | train\n",
      "3 | hist_encoder | LSTM             | 2.8 K  | train\n",
      "----------------------------------------------------------\n",
      "2.8 K     Trainable params\n",
      "5         Non-trainable params\n",
      "2.8 K     Total params\n",
      "0.011     Total estimated model params size (MB)\n",
      "4         Modules in train mode\n",
      "0         Modules in eval mode\n"
     ]
    },
    {
     "data": {
      "application/vnd.jupyter.widget-view+json": {
       "model_id": "6c5c1a7383f84bbc86f9138cca3d3323",
       "version_major": 2,
       "version_minor": 0
      },
      "text/plain": [
       "Sanity Checking: |          | 0/? [00:00<?, ?it/s]"
      ]
     },
     "metadata": {},
     "output_type": "display_data"
    },
    {
     "name": "stdout",
     "output_type": "stream",
     "text": [
      "Lỗi trong hàm mục tiêu: batch_size should be a positive integer value, but got batch_size=64\n"
     ]
    },
    {
     "name": "stderr",
     "output_type": "stream",
     "text": [
      "Seed set to 1\n",
      "GPU available: False, used: False\n",
      "TPU available: False, using: 0 TPU cores\n",
      "HPU available: False, using: 0 HPUs\n"
     ]
    },
    {
     "name": "stdout",
     "output_type": "stream",
     "text": [
      "Hình dạng dữ liệu đầu vào: (2556, 3)\n"
     ]
    },
    {
     "name": "stderr",
     "output_type": "stream",
     "text": [
      "\n",
      "  | Name         | Type             | Params | Mode \n",
      "----------------------------------------------------------\n",
      "0 | loss         | DistributionLoss | 5      | train\n",
      "1 | padder_train | ConstantPad1d    | 0      | train\n",
      "2 | scaler       | TemporalNorm     | 0      | train\n",
      "3 | hist_encoder | LSTM             | 6.1 K  | train\n",
      "----------------------------------------------------------\n",
      "6.1 K     Trainable params\n",
      "5         Non-trainable params\n",
      "6.1 K     Total params\n",
      "0.025     Total estimated model params size (MB)\n",
      "4         Modules in train mode\n",
      "0         Modules in eval mode\n"
     ]
    },
    {
     "data": {
      "application/vnd.jupyter.widget-view+json": {
       "model_id": "c9faccdd82db418dad29d7737e55f09b",
       "version_major": 2,
       "version_minor": 0
      },
      "text/plain": [
       "Sanity Checking: |          | 0/? [00:00<?, ?it/s]"
      ]
     },
     "metadata": {},
     "output_type": "display_data"
    },
    {
     "name": "stdout",
     "output_type": "stream",
     "text": [
      "Lỗi trong hàm mục tiêu: batch_size should be a positive integer value, but got batch_size=64\n"
     ]
    },
    {
     "name": "stderr",
     "output_type": "stream",
     "text": [
      "Seed set to 1\n",
      "GPU available: False, used: False\n",
      "TPU available: False, using: 0 TPU cores\n",
      "HPU available: False, using: 0 HPUs\n"
     ]
    },
    {
     "name": "stdout",
     "output_type": "stream",
     "text": [
      "Hình dạng dữ liệu đầu vào: (2556, 3)\n"
     ]
    },
    {
     "name": "stderr",
     "output_type": "stream",
     "text": [
      "\n",
      "  | Name         | Type             | Params | Mode \n",
      "----------------------------------------------------------\n",
      "0 | loss         | DistributionLoss | 5      | train\n",
      "1 | padder_train | ConstantPad1d    | 0      | train\n",
      "2 | scaler       | TemporalNorm     | 0      | train\n",
      "3 | hist_encoder | LSTM             | 6.1 K  | train\n",
      "----------------------------------------------------------\n",
      "6.1 K     Trainable params\n",
      "5         Non-trainable params\n",
      "6.1 K     Total params\n",
      "0.025     Total estimated model params size (MB)\n",
      "4         Modules in train mode\n",
      "0         Modules in eval mode\n"
     ]
    },
    {
     "data": {
      "application/vnd.jupyter.widget-view+json": {
       "model_id": "72ad1f05e1824af7af67faa470546349",
       "version_major": 2,
       "version_minor": 0
      },
      "text/plain": [
       "Sanity Checking: |          | 0/? [00:00<?, ?it/s]"
      ]
     },
     "metadata": {},
     "output_type": "display_data"
    },
    {
     "name": "stdout",
     "output_type": "stream",
     "text": [
      "Lỗi trong hàm mục tiêu: batch_size should be a positive integer value, but got batch_size=64\n"
     ]
    },
    {
     "name": "stderr",
     "output_type": "stream",
     "text": [
      "Seed set to 1\n",
      "GPU available: False, used: False\n",
      "TPU available: False, using: 0 TPU cores\n",
      "HPU available: False, using: 0 HPUs\n"
     ]
    },
    {
     "name": "stdout",
     "output_type": "stream",
     "text": [
      "Hình dạng dữ liệu đầu vào: (2556, 3)\n"
     ]
    },
    {
     "name": "stderr",
     "output_type": "stream",
     "text": [
      "\n",
      "  | Name         | Type             | Params | Mode \n",
      "----------------------------------------------------------\n",
      "0 | loss         | DistributionLoss | 5      | train\n",
      "1 | padder_train | ConstantPad1d    | 0      | train\n",
      "2 | scaler       | TemporalNorm     | 0      | train\n",
      "3 | hist_encoder | LSTM             | 2.8 K  | train\n",
      "----------------------------------------------------------\n",
      "2.8 K     Trainable params\n",
      "5         Non-trainable params\n",
      "2.8 K     Total params\n",
      "0.011     Total estimated model params size (MB)\n",
      "4         Modules in train mode\n",
      "0         Modules in eval mode\n"
     ]
    },
    {
     "data": {
      "application/vnd.jupyter.widget-view+json": {
       "model_id": "24ebabfcbebe41f880255e4097106fae",
       "version_major": 2,
       "version_minor": 0
      },
      "text/plain": [
       "Sanity Checking: |          | 0/? [00:00<?, ?it/s]"
      ]
     },
     "metadata": {},
     "output_type": "display_data"
    },
    {
     "name": "stdout",
     "output_type": "stream",
     "text": [
      "Lỗi trong hàm mục tiêu: batch_size should be a positive integer value, but got batch_size=32\n"
     ]
    },
    {
     "name": "stderr",
     "output_type": "stream",
     "text": [
      "Seed set to 1\n",
      "GPU available: False, used: False\n",
      "TPU available: False, using: 0 TPU cores\n",
      "HPU available: False, using: 0 HPUs\n"
     ]
    },
    {
     "name": "stdout",
     "output_type": "stream",
     "text": [
      "Hình dạng dữ liệu đầu vào: (2556, 3)\n"
     ]
    },
    {
     "name": "stderr",
     "output_type": "stream",
     "text": [
      "\n",
      "  | Name         | Type             | Params | Mode \n",
      "----------------------------------------------------------\n",
      "0 | loss         | DistributionLoss | 5      | train\n",
      "1 | padder_train | ConstantPad1d    | 0      | train\n",
      "2 | scaler       | TemporalNorm     | 0      | train\n",
      "3 | hist_encoder | LSTM             | 9.5 K  | train\n",
      "----------------------------------------------------------\n",
      "9.5 K     Trainable params\n",
      "5         Non-trainable params\n",
      "9.5 K     Total params\n",
      "0.038     Total estimated model params size (MB)\n",
      "4         Modules in train mode\n",
      "0         Modules in eval mode\n"
     ]
    },
    {
     "data": {
      "application/vnd.jupyter.widget-view+json": {
       "model_id": "9ccba7f5cee943a48bbeeb2ac3d99a2c",
       "version_major": 2,
       "version_minor": 0
      },
      "text/plain": [
       "Sanity Checking: |          | 0/? [00:00<?, ?it/s]"
      ]
     },
     "metadata": {},
     "output_type": "display_data"
    },
    {
     "name": "stdout",
     "output_type": "stream",
     "text": [
      "Lỗi trong hàm mục tiêu: batch_size should be a positive integer value, but got batch_size=64\n"
     ]
    },
    {
     "name": "stderr",
     "output_type": "stream",
     "text": [
      "Seed set to 1\n",
      "GPU available: False, used: False\n",
      "TPU available: False, using: 0 TPU cores\n",
      "HPU available: False, using: 0 HPUs\n"
     ]
    },
    {
     "name": "stdout",
     "output_type": "stream",
     "text": [
      "Hình dạng dữ liệu đầu vào: (2556, 3)\n"
     ]
    },
    {
     "name": "stderr",
     "output_type": "stream",
     "text": [
      "\n",
      "  | Name         | Type             | Params | Mode \n",
      "----------------------------------------------------------\n",
      "0 | loss         | DistributionLoss | 5      | train\n",
      "1 | padder_train | ConstantPad1d    | 0      | train\n",
      "2 | scaler       | TemporalNorm     | 0      | train\n",
      "3 | hist_encoder | LSTM             | 9.5 K  | train\n",
      "----------------------------------------------------------\n",
      "9.5 K     Trainable params\n",
      "5         Non-trainable params\n",
      "9.5 K     Total params\n",
      "0.038     Total estimated model params size (MB)\n",
      "4         Modules in train mode\n",
      "0         Modules in eval mode\n"
     ]
    },
    {
     "data": {
      "application/vnd.jupyter.widget-view+json": {
       "model_id": "b74e0aacb53c4474bd7392064984dfe0",
       "version_major": 2,
       "version_minor": 0
      },
      "text/plain": [
       "Sanity Checking: |          | 0/? [00:00<?, ?it/s]"
      ]
     },
     "metadata": {},
     "output_type": "display_data"
    },
    {
     "name": "stdout",
     "output_type": "stream",
     "text": [
      "Lỗi trong hàm mục tiêu: batch_size should be a positive integer value, but got batch_size=32\n"
     ]
    },
    {
     "name": "stderr",
     "output_type": "stream",
     "text": [
      "Seed set to 1\n",
      "GPU available: False, used: False\n",
      "TPU available: False, using: 0 TPU cores\n",
      "HPU available: False, using: 0 HPUs\n"
     ]
    },
    {
     "name": "stdout",
     "output_type": "stream",
     "text": [
      "Hình dạng dữ liệu đầu vào: (2556, 3)\n"
     ]
    },
    {
     "name": "stderr",
     "output_type": "stream",
     "text": [
      "\n",
      "  | Name         | Type             | Params | Mode \n",
      "----------------------------------------------------------\n",
      "0 | loss         | DistributionLoss | 5      | train\n",
      "1 | padder_train | ConstantPad1d    | 0      | train\n",
      "2 | scaler       | TemporalNorm     | 0      | train\n",
      "3 | hist_encoder | LSTM             | 6.1 K  | train\n",
      "----------------------------------------------------------\n",
      "6.1 K     Trainable params\n",
      "5         Non-trainable params\n",
      "6.1 K     Total params\n",
      "0.025     Total estimated model params size (MB)\n",
      "4         Modules in train mode\n",
      "0         Modules in eval mode\n"
     ]
    },
    {
     "data": {
      "application/vnd.jupyter.widget-view+json": {
       "model_id": "a78d6c7f1d824f1e87869b9e1bb8a622",
       "version_major": 2,
       "version_minor": 0
      },
      "text/plain": [
       "Sanity Checking: |          | 0/? [00:00<?, ?it/s]"
      ]
     },
     "metadata": {},
     "output_type": "display_data"
    },
    {
     "name": "stdout",
     "output_type": "stream",
     "text": [
      "Lỗi trong hàm mục tiêu: batch_size should be a positive integer value, but got batch_size=32\n",
      "Điểm GBRT tốt nhất: 23.6737\n",
      "Tham số GBRT tốt nhất:\n",
      "  input_size: 41\n",
      "  max_steps: 464\n",
      "  encoder_n_layers: 2\n",
      "  batch_size: 64\n",
      "  decoder_layers: 2\n",
      "  learning_rate: 0.00010968217207529519\n"
     ]
    }
   ],
   "source": [
    "\n",
    "# Phương pháp 1: Tối ưu hóa Gaussian Process\n",
    "print(\"=\"*60)\n",
    "print(\"PHƯƠNG PHÁP 1: TỐI ƯU HÓA GAUSSIAN PROCESS\")\n",
    "print(\"=\"*60)\n",
    "\n",
    "results_history = []  # Đặt lại lịch sử\n",
    "result_gp = gp_minimize(\n",
    "    func=objective,\n",
    "    dimensions=dimensions,\n",
    "    n_calls=25,\n",
    "    n_initial_points=10,\n",
    "    acq_func='EI',\n",
    "    random_state=42,\n",
    "    callback=callback_func\n",
    ")\n",
    "\n",
    "print(f\"Điểm GP tốt nhất: {result_gp.fun:.4f}\")\n",
    "print(\"Tham số GP tốt nhất:\")\n",
    "for dim, val in zip(dimensions, result_gp.x):\n",
    "    print(f\"  {dim.name}: {val}\")\n",
    "if result_gp.fun < best_score:\n",
    "    best_method = \"Gaussian Process\"\n",
    "    best_result = result_gp\n",
    "\n",
    "# Phương pháp 2: Tối ưu hóa Gradient Boosted Trees\n",
    "print(\"\\n\" + \"=\"*60)\n",
    "print(\"PHƯƠNG PHÁP 2: TỐI ƯU HÓA GRADIENT BOOSTED TREES\")\n",
    "print(\"=\"*60)\n",
    "\n",
    "results_history = []  # Đặt lại lịch sử\n",
    "result_gbrt = gbrt_minimize(\n",
    "    func=objective,\n",
    "    dimensions=dimensions,\n",
    "    n_calls=25,\n",
    "    n_initial_points=10,\n",
    "    random_state=42,\n",
    "    callback=callback_func\n",
    ")\n",
    "\n",
    "print(f\"Điểm GBRT tốt nhất: {result_gbrt.fun:.4f}\")\n",
    "print(\"Tham số GBRT tốt nhất:\")\n",
    "for dim, val in zip(dimensions, result_gbrt.x):\n",
    "    print(f\"  {dim.name}: {val}\")\n",
    "if result_gbrt.fun < best_score:\n",
    "    best_method = \"Gradient Boosted Trees\"\n",
    "    best_result = result_gbrt\n"
   ]
  },
  {
   "cell_type": "code",
   "execution_count": 15,
   "id": "72d84d9f",
   "metadata": {},
   "outputs": [
    {
     "name": "stdout",
     "output_type": "stream",
     "text": [
      "\n",
      "============================================================\n",
      "SO SÁNH KẾT QUẢ\n",
      "============================================================\n",
      "           Phương pháp  MAE tốt nhất  Số lần gọi\n",
      "      Gaussian Process     24.182323          25\n",
      "Gradient Boosted Trees     23.673719          25\n"
     ]
    }
   ],
   "source": [
    "\n",
    "# So sánh kết quả các phương pháp\n",
    "print(\"\\n\" + \"=\"*60)\n",
    "print(\"SO SÁNH KẾT QUẢ\")\n",
    "print(\"=\"*60)\n",
    "\n",
    "methods_comparison = pd.DataFrame({\n",
    "    'Phương pháp': ['Gaussian Process', 'Gradient Boosted Trees'],\n",
    "    'MAE tốt nhất': [result_gp.fun, result_gbrt.fun],\n",
    "    'Số lần gọi': [len(result_gp.func_vals), len(result_gbrt.func_vals)]\n",
    "})\n",
    "\n",
    "print(methods_comparison.to_string(index=False))\n"
   ]
  },
  {
   "cell_type": "code",
   "execution_count": 18,
   "id": "6890a26d",
   "metadata": {},
   "outputs": [
    {
     "name": "stderr",
     "output_type": "stream",
     "text": [
      "Seed set to 1\n"
     ]
    },
    {
     "name": "stderr",
     "output_type": "stream",
     "text": [
      "GPU available: False, used: False\n",
      "TPU available: False, using: 0 TPU cores\n",
      "HPU available: False, using: 0 HPUs\n",
      "\n",
      "  | Name         | Type             | Params | Mode \n",
      "----------------------------------------------------------\n",
      "0 | loss         | DistributionLoss | 5      | train\n",
      "1 | padder_train | ConstantPad1d    | 0      | train\n",
      "2 | scaler       | TemporalNorm     | 0      | train\n",
      "3 | hist_encoder | LSTM             | 6.1 K  | train\n",
      "----------------------------------------------------------\n",
      "6.1 K     Trainable params\n",
      "5         Non-trainable params\n",
      "6.1 K     Total params\n",
      "0.025     Total estimated model params size (MB)\n",
      "4         Modules in train mode\n",
      "0         Modules in eval mode\n"
     ]
    },
    {
     "name": "stdout",
     "output_type": "stream",
     "text": [
      "\n",
      "============================================================\n",
      "HUẤN LUYỆN MÔ HÌNH CUỐI CÙNG\n",
      "============================================================\n"
     ]
    },
    {
     "data": {
      "application/vnd.jupyter.widget-view+json": {
       "model_id": "5e47d2ea69414e8f815da3247af52105",
       "version_major": 2,
       "version_minor": 0
      },
      "text/plain": [
       "Sanity Checking: |          | 0/? [00:00<?, ?it/s]"
      ]
     },
     "metadata": {},
     "output_type": "display_data"
    },
    {
     "data": {
      "application/vnd.jupyter.widget-view+json": {
       "model_id": "e54d92c762e34854a7487e1952082304",
       "version_major": 2,
       "version_minor": 0
      },
      "text/plain": [
       "Training: |          | 0/? [00:00<?, ?it/s]"
      ]
     },
     "metadata": {},
     "output_type": "display_data"
    },
    {
     "data": {
      "application/vnd.jupyter.widget-view+json": {
       "model_id": "eb2b0c08c627454f99b187b6da4e08f1",
       "version_major": 2,
       "version_minor": 0
      },
      "text/plain": [
       "Validation: |          | 0/? [00:00<?, ?it/s]"
      ]
     },
     "metadata": {},
     "output_type": "display_data"
    },
    {
     "data": {
      "application/vnd.jupyter.widget-view+json": {
       "model_id": "e87159fce334454693f13b6e973a549f",
       "version_major": 2,
       "version_minor": 0
      },
      "text/plain": [
       "Validation: |          | 0/? [00:00<?, ?it/s]"
      ]
     },
     "metadata": {},
     "output_type": "display_data"
    },
    {
     "data": {
      "application/vnd.jupyter.widget-view+json": {
       "model_id": "d709c005628a4445a330ee6276a3443d",
       "version_major": 2,
       "version_minor": 0
      },
      "text/plain": [
       "Validation: |          | 0/? [00:00<?, ?it/s]"
      ]
     },
     "metadata": {},
     "output_type": "display_data"
    },
    {
     "data": {
      "application/vnd.jupyter.widget-view+json": {
       "model_id": "e9bb7b76a08245b7aae0e08d83527c5f",
       "version_major": 2,
       "version_minor": 0
      },
      "text/plain": [
       "Validation: |          | 0/? [00:00<?, ?it/s]"
      ]
     },
     "metadata": {},
     "output_type": "display_data"
    },
    {
     "name": "stderr",
     "output_type": "stream",
     "text": [
      "`Trainer.fit` stopped: `max_steps=464` reached.\n",
      "GPU available: False, used: False\n",
      "TPU available: False, using: 0 TPU cores\n",
      "HPU available: False, using: 0 HPUs\n"
     ]
    },
    {
     "data": {
      "application/vnd.jupyter.widget-view+json": {
       "model_id": "259b5a089e004b3eb8a2d3aaa35b0e60",
       "version_major": 2,
       "version_minor": 0
      },
      "text/plain": [
       "Predicting: |          | 0/? [00:00<?, ?it/s]"
      ]
     },
     "metadata": {},
     "output_type": "display_data"
    },
    {
     "name": "stdout",
     "output_type": "stream",
     "text": [
      "\n",
      "KẾT QUẢ CUỐI CÙNG:\n",
      "Chân trời Dữ liệu       MAE      RMSE     MAPE\n",
      "       20 VNINDEX 23.673719 31.572596 1.890625\n",
      "\n",
      "============================================================\n",
      "TÓM TẮT\n",
      "============================================================\n",
      "Phương pháp tốt nhất: None\n",
      "MAE tốt nhất: 23.6737\n",
      "Số lần gọi hàm: 8\n",
      "\n",
      "Tham số tối ưu:\n",
      "  input_size: 41\n",
      "  max_steps: 464\n",
      "  encoder_n_layers: 2\n",
      "  batch_size: 64\n",
      "  decoder_layers: 2\n",
      "  learning_rate: 0.00010968217207529519\n"
     ]
    }
   ],
   "source": [
    "\n",
    "# Huấn luyện mô hình cuối cùng với tham số tốt nhất\n",
    "print(\"\\n\" + \"=\"*60)\n",
    "print(\"HUẤN LUYỆN MÔ HÌNH CUỐI CÙNG\")\n",
    "print(\"=\"*60)\n",
    "\n",
    "final_params = dict(zip([dim.name for dim in dimensions], best_result.x))\n",
    "\n",
    "\n",
    "# final_model = LSTM(\n",
    "#     h=horizon,\n",
    "#     input_size=final_params['input_size'],\n",
    "#     loss=DistributionLoss(distribution=\"Normal\", level=[80,90]),\n",
    "#     scaler_type='robust',\n",
    "#     encoder_n_layers=final_params['encoder_n_layers'],\n",
    "#     encoder_hidden_size=final_params['encoder_hidden_size'],\n",
    "#     decoder_layers=final_params['decoder_layers'],\n",
    "#     decoder_hidden=final_params['decoder_hidden_size'],\n",
    "#     max_steps=final_params['max_steps'],\n",
    "#     recurrent=True,\n",
    "#     h_train=1.0,\n",
    "#     valid_loss=DistributionLoss(distribution='Normal', level=[80, 90])\n",
    "# )\n",
    "final_model = LSTM(\n",
    "            h=horizon,\n",
    "            input_size=final_params['input_size'],\n",
    "            loss=DistributionLoss(distribution=\"Normal\", level=[80, 90]),\n",
    "            scaler_type='robust',\n",
    "            encoder_n_layers=final_params['encoder_n_layers'],\n",
    "            decoder_layers=final_params['decoder_layers'],\n",
    "            batch_size=final_params['batch_size'],\n",
    "            learning_rate=final_params['learning_rate'],\n",
    "            max_steps=final_params['max_steps'],\n",
    "            recurrent=True,\n",
    "            h_train=1,\n",
    "            valid_loss=DistributionLoss(distribution=\"Normal\", level=[80, 90])\n",
    "        )\n",
    "\n",
    "fcst_final = NeuralForecast(models=[final_model], freq='B')\n",
    "forecasts_final = fcst_final.cross_validation(\n",
    "    df=df1, \n",
    "    val_size=val_len, \n",
    "    n_windows=None, \n",
    "    test_size=test_len - ((test_len - horizon) % horizon), \n",
    "    step_size=horizon\n",
    ")\n",
    "\n",
    "# Tính toán các chỉ số cuối cùng\n",
    "Y_true_final = forecasts_final['y'].values\n",
    "Y_hat_final = forecasts_final['LSTM'].values\n",
    "\n",
    "MAE_final = mae(Y_true_final, Y_hat_final)\n",
    "MAPE_final = mape(Y_true_final, Y_hat_final) * 100\n",
    "RMSE_final = np.sqrt(mse(Y_true_final, Y_hat_final))\n",
    "\n",
    "# Kết quả cuối cùng\n",
    "df_final_results = pd.DataFrame({\n",
    "    'Chân trời': [str(horizon)],\n",
    "    'Dữ liệu': [\"VNINDEX\"],\n",
    "    'MAE': [MAE_final],\n",
    "    'RMSE': [RMSE_final],\n",
    "    'MAPE': [MAPE_final]\n",
    "})\n",
    "\n",
    "print(\"\\nKẾT QUẢ CUỐI CÙNG:\")\n",
    "print(df_final_results.to_string(index=False))\n",
    "\n",
    "# Lưu kết quả\n",
    "results_df = pd.DataFrame({\n",
    "    'GP_MAE': result_gp.func_vals,\n",
    "    'GBRT_MAE': result_gbrt.func_vals\n",
    "})\n",
    "\n",
    "# Tóm tắt\n",
    "print(\"\\n\" + \"=\"*60)\n",
    "print(\"TÓM TẮT\")\n",
    "print(\"=\"*60)\n",
    "print(f\"Phương pháp tốt nhất: {best_method}\")\n",
    "print(f\"MAE tốt nhất: {best_result.fun:.4f}\")\n",
    "print(f\"Số lần gọi hàm: {len(best_result.func_vals)}\")\n",
    "print(\"\\nTham số tối ưu:\")\n",
    "for dim, val in zip(dimensions, best_result.x):\n",
    "    print(f\"  {dim.name}: {val}\")"
   ]
  },
  {
   "cell_type": "code",
   "execution_count": 23,
   "id": "10e6a0e3",
   "metadata": {},
   "outputs": [
    {
     "data": {
      "text/html": [
       "<div>\n",
       "<style scoped>\n",
       "    .dataframe tbody tr th:only-of-type {\n",
       "        vertical-align: middle;\n",
       "    }\n",
       "\n",
       "    .dataframe tbody tr th {\n",
       "        vertical-align: top;\n",
       "    }\n",
       "\n",
       "    .dataframe thead th {\n",
       "        text-align: right;\n",
       "    }\n",
       "</style>\n",
       "<table border=\"1\" class=\"dataframe\">\n",
       "  <thead>\n",
       "    <tr style=\"text-align: right;\">\n",
       "      <th></th>\n",
       "      <th>Chân trời</th>\n",
       "      <th>Dữ liệu</th>\n",
       "      <th>MAE</th>\n",
       "      <th>RMSE</th>\n",
       "      <th>MAPE</th>\n",
       "    </tr>\n",
       "  </thead>\n",
       "  <tbody>\n",
       "    <tr>\n",
       "      <th>0</th>\n",
       "      <td>20</td>\n",
       "      <td>VNINDEX</td>\n",
       "      <td>23.673719</td>\n",
       "      <td>31.572596</td>\n",
       "      <td>1.890625</td>\n",
       "    </tr>\n",
       "  </tbody>\n",
       "</table>\n",
       "</div>"
      ],
      "text/plain": [
       "  Chân trời  Dữ liệu        MAE       RMSE      MAPE\n",
       "0        20  VNINDEX  23.673719  31.572596  1.890625"
      ]
     },
     "execution_count": 23,
     "metadata": {},
     "output_type": "execute_result"
    }
   ],
   "source": [
    "MAE_final = mae(Y_true_final, Y_hat_final)\n",
    "MAPE_final = mape(Y_true_final, Y_hat_final) * 100\n",
    "RMSE_final = np.sqrt(mse(Y_true_final, Y_hat_final))\n",
    "\n",
    "# Kết quả cuối cùng\n",
    "df_final_results = pd.DataFrame({\n",
    "    'Chân trời': [str(horizon)],\n",
    "    'Dữ liệu': [\"VNINDEX\"],\n",
    "    'MAE': [MAE_final],\n",
    "    'RMSE': [RMSE_final],\n",
    "    'MAPE': [MAPE_final]\n",
    "})\n",
    "\n",
    "df_final_results"
   ]
  }
 ],
 "metadata": {
  "kernelspec": {
   "display_name": "Python 3",
   "language": "python",
   "name": "python3"
  },
  "language_info": {
   "codemirror_mode": {
    "name": "ipython",
    "version": 3
   },
   "file_extension": ".py",
   "mimetype": "text/x-python",
   "name": "python",
   "nbconvert_exporter": "python",
   "pygments_lexer": "ipython3",
   "version": "3.12.5"
  }
 },
 "nbformat": 4,
 "nbformat_minor": 5
}
